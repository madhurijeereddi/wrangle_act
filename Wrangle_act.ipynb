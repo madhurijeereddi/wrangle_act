{
 "cells": [
  {
   "cell_type": "code",
   "execution_count": 1,
   "id": "27fbe947",
   "metadata": {},
   "outputs": [],
   "source": [
    "import pandas as pd\n",
    "import numpy as np\n",
    "import requests\n",
    "import json\n",
    "import tweepy\n",
    "from io import StringIO"
   ]
  },
  {
   "cell_type": "code",
   "execution_count": 2,
   "id": "37943c25",
   "metadata": {},
   "outputs": [],
   "source": [
    "tae_df = pd.read_csv('twitter-archive-enhanced.csv')"
   ]
  },
  {
   "cell_type": "code",
   "execution_count": 3,
   "id": "89fa9841",
   "metadata": {},
   "outputs": [
    {
     "data": {
      "text/plain": [
       "200"
      ]
     },
     "execution_count": 3,
     "metadata": {},
     "output_type": "execute_result"
    }
   ],
   "source": [
    "r = requests.get(' https://d17h27t6h515a5.cloudfront.net/topher/2017/August/599fd2ad_image-predictions/image-predictions.tsv', auth=('user', 'pass'))\n",
    "r.status_code"
   ]
  },
  {
   "cell_type": "code",
   "execution_count": 4,
   "id": "d1c1b9ef",
   "metadata": {},
   "outputs": [],
   "source": [
    "ip_df = pd.read_csv(StringIO(r.text), sep='\\t')"
   ]
  },
  {
   "cell_type": "code",
   "execution_count": 5,
   "id": "27167b7d",
   "metadata": {},
   "outputs": [],
   "source": [
    "df_tweet_list = []\n",
    "with open('tweet-json.txt', 'r') as file:\n",
    "    for line in file:\n",
    "        data = json.loads(line.strip())\n",
    "        tweet = {\n",
    "            'tweet_id': data['id'],\n",
    "            'retweet_count': data['retweet_count'],\n",
    "            'favorite_count': data['favorite_count']\n",
    "        }\n",
    "        df_tweet_list.append(tweet)\n",
    "        \n",
    "tweet_df = pd.DataFrame(df_tweet_list)"
   ]
  },
  {
   "cell_type": "code",
   "execution_count": 6,
   "id": "50e002b8",
   "metadata": {
    "scrolled": true
   },
   "outputs": [
    {
     "data": {
      "text/html": [
       "<div>\n",
       "<style scoped>\n",
       "    .dataframe tbody tr th:only-of-type {\n",
       "        vertical-align: middle;\n",
       "    }\n",
       "\n",
       "    .dataframe tbody tr th {\n",
       "        vertical-align: top;\n",
       "    }\n",
       "\n",
       "    .dataframe thead th {\n",
       "        text-align: right;\n",
       "    }\n",
       "</style>\n",
       "<table border=\"1\" class=\"dataframe\">\n",
       "  <thead>\n",
       "    <tr style=\"text-align: right;\">\n",
       "      <th></th>\n",
       "      <th>tweet_id</th>\n",
       "      <th>in_reply_to_status_id</th>\n",
       "      <th>in_reply_to_user_id</th>\n",
       "      <th>timestamp</th>\n",
       "      <th>source</th>\n",
       "      <th>text</th>\n",
       "      <th>retweeted_status_id</th>\n",
       "      <th>retweeted_status_user_id</th>\n",
       "      <th>retweeted_status_timestamp</th>\n",
       "      <th>expanded_urls</th>\n",
       "      <th>rating_numerator</th>\n",
       "      <th>rating_denominator</th>\n",
       "      <th>name</th>\n",
       "      <th>doggo</th>\n",
       "      <th>floofer</th>\n",
       "      <th>pupper</th>\n",
       "      <th>puppo</th>\n",
       "    </tr>\n",
       "  </thead>\n",
       "  <tbody>\n",
       "    <tr>\n",
       "      <th>0</th>\n",
       "      <td>892420643555336193</td>\n",
       "      <td>NaN</td>\n",
       "      <td>NaN</td>\n",
       "      <td>2017-08-01 16:23:56 +0000</td>\n",
       "      <td>&lt;a href=\"http://twitter.com/download/iphone\" r...</td>\n",
       "      <td>This is Phineas. He's a mystical boy. Only eve...</td>\n",
       "      <td>NaN</td>\n",
       "      <td>NaN</td>\n",
       "      <td>NaN</td>\n",
       "      <td>https://twitter.com/dog_rates/status/892420643...</td>\n",
       "      <td>13</td>\n",
       "      <td>10</td>\n",
       "      <td>Phineas</td>\n",
       "      <td>None</td>\n",
       "      <td>None</td>\n",
       "      <td>None</td>\n",
       "      <td>None</td>\n",
       "    </tr>\n",
       "    <tr>\n",
       "      <th>1</th>\n",
       "      <td>892177421306343426</td>\n",
       "      <td>NaN</td>\n",
       "      <td>NaN</td>\n",
       "      <td>2017-08-01 00:17:27 +0000</td>\n",
       "      <td>&lt;a href=\"http://twitter.com/download/iphone\" r...</td>\n",
       "      <td>This is Tilly. She's just checking pup on you....</td>\n",
       "      <td>NaN</td>\n",
       "      <td>NaN</td>\n",
       "      <td>NaN</td>\n",
       "      <td>https://twitter.com/dog_rates/status/892177421...</td>\n",
       "      <td>13</td>\n",
       "      <td>10</td>\n",
       "      <td>Tilly</td>\n",
       "      <td>None</td>\n",
       "      <td>None</td>\n",
       "      <td>None</td>\n",
       "      <td>None</td>\n",
       "    </tr>\n",
       "    <tr>\n",
       "      <th>2</th>\n",
       "      <td>891815181378084864</td>\n",
       "      <td>NaN</td>\n",
       "      <td>NaN</td>\n",
       "      <td>2017-07-31 00:18:03 +0000</td>\n",
       "      <td>&lt;a href=\"http://twitter.com/download/iphone\" r...</td>\n",
       "      <td>This is Archie. He is a rare Norwegian Pouncin...</td>\n",
       "      <td>NaN</td>\n",
       "      <td>NaN</td>\n",
       "      <td>NaN</td>\n",
       "      <td>https://twitter.com/dog_rates/status/891815181...</td>\n",
       "      <td>12</td>\n",
       "      <td>10</td>\n",
       "      <td>Archie</td>\n",
       "      <td>None</td>\n",
       "      <td>None</td>\n",
       "      <td>None</td>\n",
       "      <td>None</td>\n",
       "    </tr>\n",
       "    <tr>\n",
       "      <th>3</th>\n",
       "      <td>891689557279858688</td>\n",
       "      <td>NaN</td>\n",
       "      <td>NaN</td>\n",
       "      <td>2017-07-30 15:58:51 +0000</td>\n",
       "      <td>&lt;a href=\"http://twitter.com/download/iphone\" r...</td>\n",
       "      <td>This is Darla. She commenced a snooze mid meal...</td>\n",
       "      <td>NaN</td>\n",
       "      <td>NaN</td>\n",
       "      <td>NaN</td>\n",
       "      <td>https://twitter.com/dog_rates/status/891689557...</td>\n",
       "      <td>13</td>\n",
       "      <td>10</td>\n",
       "      <td>Darla</td>\n",
       "      <td>None</td>\n",
       "      <td>None</td>\n",
       "      <td>None</td>\n",
       "      <td>None</td>\n",
       "    </tr>\n",
       "    <tr>\n",
       "      <th>4</th>\n",
       "      <td>891327558926688256</td>\n",
       "      <td>NaN</td>\n",
       "      <td>NaN</td>\n",
       "      <td>2017-07-29 16:00:24 +0000</td>\n",
       "      <td>&lt;a href=\"http://twitter.com/download/iphone\" r...</td>\n",
       "      <td>This is Franklin. He would like you to stop ca...</td>\n",
       "      <td>NaN</td>\n",
       "      <td>NaN</td>\n",
       "      <td>NaN</td>\n",
       "      <td>https://twitter.com/dog_rates/status/891327558...</td>\n",
       "      <td>12</td>\n",
       "      <td>10</td>\n",
       "      <td>Franklin</td>\n",
       "      <td>None</td>\n",
       "      <td>None</td>\n",
       "      <td>None</td>\n",
       "      <td>None</td>\n",
       "    </tr>\n",
       "  </tbody>\n",
       "</table>\n",
       "</div>"
      ],
      "text/plain": [
       "             tweet_id  in_reply_to_status_id  in_reply_to_user_id  \\\n",
       "0  892420643555336193                    NaN                  NaN   \n",
       "1  892177421306343426                    NaN                  NaN   \n",
       "2  891815181378084864                    NaN                  NaN   \n",
       "3  891689557279858688                    NaN                  NaN   \n",
       "4  891327558926688256                    NaN                  NaN   \n",
       "\n",
       "                   timestamp  \\\n",
       "0  2017-08-01 16:23:56 +0000   \n",
       "1  2017-08-01 00:17:27 +0000   \n",
       "2  2017-07-31 00:18:03 +0000   \n",
       "3  2017-07-30 15:58:51 +0000   \n",
       "4  2017-07-29 16:00:24 +0000   \n",
       "\n",
       "                                              source  \\\n",
       "0  <a href=\"http://twitter.com/download/iphone\" r...   \n",
       "1  <a href=\"http://twitter.com/download/iphone\" r...   \n",
       "2  <a href=\"http://twitter.com/download/iphone\" r...   \n",
       "3  <a href=\"http://twitter.com/download/iphone\" r...   \n",
       "4  <a href=\"http://twitter.com/download/iphone\" r...   \n",
       "\n",
       "                                                text  retweeted_status_id  \\\n",
       "0  This is Phineas. He's a mystical boy. Only eve...                  NaN   \n",
       "1  This is Tilly. She's just checking pup on you....                  NaN   \n",
       "2  This is Archie. He is a rare Norwegian Pouncin...                  NaN   \n",
       "3  This is Darla. She commenced a snooze mid meal...                  NaN   \n",
       "4  This is Franklin. He would like you to stop ca...                  NaN   \n",
       "\n",
       "   retweeted_status_user_id retweeted_status_timestamp  \\\n",
       "0                       NaN                        NaN   \n",
       "1                       NaN                        NaN   \n",
       "2                       NaN                        NaN   \n",
       "3                       NaN                        NaN   \n",
       "4                       NaN                        NaN   \n",
       "\n",
       "                                       expanded_urls  rating_numerator  \\\n",
       "0  https://twitter.com/dog_rates/status/892420643...                13   \n",
       "1  https://twitter.com/dog_rates/status/892177421...                13   \n",
       "2  https://twitter.com/dog_rates/status/891815181...                12   \n",
       "3  https://twitter.com/dog_rates/status/891689557...                13   \n",
       "4  https://twitter.com/dog_rates/status/891327558...                12   \n",
       "\n",
       "   rating_denominator      name doggo floofer pupper puppo  \n",
       "0                  10   Phineas  None    None   None  None  \n",
       "1                  10     Tilly  None    None   None  None  \n",
       "2                  10    Archie  None    None   None  None  \n",
       "3                  10     Darla  None    None   None  None  \n",
       "4                  10  Franklin  None    None   None  None  "
      ]
     },
     "execution_count": 6,
     "metadata": {},
     "output_type": "execute_result"
    }
   ],
   "source": [
    "tae_df.head()"
   ]
  },
  {
   "cell_type": "code",
   "execution_count": 7,
   "id": "f51275c8",
   "metadata": {},
   "outputs": [
    {
     "data": {
      "text/html": [
       "<div>\n",
       "<style scoped>\n",
       "    .dataframe tbody tr th:only-of-type {\n",
       "        vertical-align: middle;\n",
       "    }\n",
       "\n",
       "    .dataframe tbody tr th {\n",
       "        vertical-align: top;\n",
       "    }\n",
       "\n",
       "    .dataframe thead th {\n",
       "        text-align: right;\n",
       "    }\n",
       "</style>\n",
       "<table border=\"1\" class=\"dataframe\">\n",
       "  <thead>\n",
       "    <tr style=\"text-align: right;\">\n",
       "      <th></th>\n",
       "      <th>tweet_id</th>\n",
       "      <th>in_reply_to_status_id</th>\n",
       "      <th>in_reply_to_user_id</th>\n",
       "      <th>timestamp</th>\n",
       "      <th>source</th>\n",
       "      <th>text</th>\n",
       "      <th>retweeted_status_id</th>\n",
       "      <th>retweeted_status_user_id</th>\n",
       "      <th>retweeted_status_timestamp</th>\n",
       "      <th>expanded_urls</th>\n",
       "      <th>rating_numerator</th>\n",
       "      <th>rating_denominator</th>\n",
       "      <th>name</th>\n",
       "      <th>doggo</th>\n",
       "      <th>floofer</th>\n",
       "      <th>pupper</th>\n",
       "      <th>puppo</th>\n",
       "    </tr>\n",
       "  </thead>\n",
       "  <tbody>\n",
       "    <tr>\n",
       "      <th>2351</th>\n",
       "      <td>666049248165822465</td>\n",
       "      <td>NaN</td>\n",
       "      <td>NaN</td>\n",
       "      <td>2015-11-16 00:24:50 +0000</td>\n",
       "      <td>&lt;a href=\"http://twitter.com/download/iphone\" r...</td>\n",
       "      <td>Here we have a 1949 1st generation vulpix. Enj...</td>\n",
       "      <td>NaN</td>\n",
       "      <td>NaN</td>\n",
       "      <td>NaN</td>\n",
       "      <td>https://twitter.com/dog_rates/status/666049248...</td>\n",
       "      <td>5</td>\n",
       "      <td>10</td>\n",
       "      <td>None</td>\n",
       "      <td>None</td>\n",
       "      <td>None</td>\n",
       "      <td>None</td>\n",
       "      <td>None</td>\n",
       "    </tr>\n",
       "    <tr>\n",
       "      <th>2352</th>\n",
       "      <td>666044226329800704</td>\n",
       "      <td>NaN</td>\n",
       "      <td>NaN</td>\n",
       "      <td>2015-11-16 00:04:52 +0000</td>\n",
       "      <td>&lt;a href=\"http://twitter.com/download/iphone\" r...</td>\n",
       "      <td>This is a purebred Piers Morgan. Loves to Netf...</td>\n",
       "      <td>NaN</td>\n",
       "      <td>NaN</td>\n",
       "      <td>NaN</td>\n",
       "      <td>https://twitter.com/dog_rates/status/666044226...</td>\n",
       "      <td>6</td>\n",
       "      <td>10</td>\n",
       "      <td>a</td>\n",
       "      <td>None</td>\n",
       "      <td>None</td>\n",
       "      <td>None</td>\n",
       "      <td>None</td>\n",
       "    </tr>\n",
       "    <tr>\n",
       "      <th>2353</th>\n",
       "      <td>666033412701032449</td>\n",
       "      <td>NaN</td>\n",
       "      <td>NaN</td>\n",
       "      <td>2015-11-15 23:21:54 +0000</td>\n",
       "      <td>&lt;a href=\"http://twitter.com/download/iphone\" r...</td>\n",
       "      <td>Here is a very happy pup. Big fan of well-main...</td>\n",
       "      <td>NaN</td>\n",
       "      <td>NaN</td>\n",
       "      <td>NaN</td>\n",
       "      <td>https://twitter.com/dog_rates/status/666033412...</td>\n",
       "      <td>9</td>\n",
       "      <td>10</td>\n",
       "      <td>a</td>\n",
       "      <td>None</td>\n",
       "      <td>None</td>\n",
       "      <td>None</td>\n",
       "      <td>None</td>\n",
       "    </tr>\n",
       "    <tr>\n",
       "      <th>2354</th>\n",
       "      <td>666029285002620928</td>\n",
       "      <td>NaN</td>\n",
       "      <td>NaN</td>\n",
       "      <td>2015-11-15 23:05:30 +0000</td>\n",
       "      <td>&lt;a href=\"http://twitter.com/download/iphone\" r...</td>\n",
       "      <td>This is a western brown Mitsubishi terrier. Up...</td>\n",
       "      <td>NaN</td>\n",
       "      <td>NaN</td>\n",
       "      <td>NaN</td>\n",
       "      <td>https://twitter.com/dog_rates/status/666029285...</td>\n",
       "      <td>7</td>\n",
       "      <td>10</td>\n",
       "      <td>a</td>\n",
       "      <td>None</td>\n",
       "      <td>None</td>\n",
       "      <td>None</td>\n",
       "      <td>None</td>\n",
       "    </tr>\n",
       "    <tr>\n",
       "      <th>2355</th>\n",
       "      <td>666020888022790149</td>\n",
       "      <td>NaN</td>\n",
       "      <td>NaN</td>\n",
       "      <td>2015-11-15 22:32:08 +0000</td>\n",
       "      <td>&lt;a href=\"http://twitter.com/download/iphone\" r...</td>\n",
       "      <td>Here we have a Japanese Irish Setter. Lost eye...</td>\n",
       "      <td>NaN</td>\n",
       "      <td>NaN</td>\n",
       "      <td>NaN</td>\n",
       "      <td>https://twitter.com/dog_rates/status/666020888...</td>\n",
       "      <td>8</td>\n",
       "      <td>10</td>\n",
       "      <td>None</td>\n",
       "      <td>None</td>\n",
       "      <td>None</td>\n",
       "      <td>None</td>\n",
       "      <td>None</td>\n",
       "    </tr>\n",
       "  </tbody>\n",
       "</table>\n",
       "</div>"
      ],
      "text/plain": [
       "                tweet_id  in_reply_to_status_id  in_reply_to_user_id  \\\n",
       "2351  666049248165822465                    NaN                  NaN   \n",
       "2352  666044226329800704                    NaN                  NaN   \n",
       "2353  666033412701032449                    NaN                  NaN   \n",
       "2354  666029285002620928                    NaN                  NaN   \n",
       "2355  666020888022790149                    NaN                  NaN   \n",
       "\n",
       "                      timestamp  \\\n",
       "2351  2015-11-16 00:24:50 +0000   \n",
       "2352  2015-11-16 00:04:52 +0000   \n",
       "2353  2015-11-15 23:21:54 +0000   \n",
       "2354  2015-11-15 23:05:30 +0000   \n",
       "2355  2015-11-15 22:32:08 +0000   \n",
       "\n",
       "                                                 source  \\\n",
       "2351  <a href=\"http://twitter.com/download/iphone\" r...   \n",
       "2352  <a href=\"http://twitter.com/download/iphone\" r...   \n",
       "2353  <a href=\"http://twitter.com/download/iphone\" r...   \n",
       "2354  <a href=\"http://twitter.com/download/iphone\" r...   \n",
       "2355  <a href=\"http://twitter.com/download/iphone\" r...   \n",
       "\n",
       "                                                   text  retweeted_status_id  \\\n",
       "2351  Here we have a 1949 1st generation vulpix. Enj...                  NaN   \n",
       "2352  This is a purebred Piers Morgan. Loves to Netf...                  NaN   \n",
       "2353  Here is a very happy pup. Big fan of well-main...                  NaN   \n",
       "2354  This is a western brown Mitsubishi terrier. Up...                  NaN   \n",
       "2355  Here we have a Japanese Irish Setter. Lost eye...                  NaN   \n",
       "\n",
       "      retweeted_status_user_id retweeted_status_timestamp  \\\n",
       "2351                       NaN                        NaN   \n",
       "2352                       NaN                        NaN   \n",
       "2353                       NaN                        NaN   \n",
       "2354                       NaN                        NaN   \n",
       "2355                       NaN                        NaN   \n",
       "\n",
       "                                          expanded_urls  rating_numerator  \\\n",
       "2351  https://twitter.com/dog_rates/status/666049248...                 5   \n",
       "2352  https://twitter.com/dog_rates/status/666044226...                 6   \n",
       "2353  https://twitter.com/dog_rates/status/666033412...                 9   \n",
       "2354  https://twitter.com/dog_rates/status/666029285...                 7   \n",
       "2355  https://twitter.com/dog_rates/status/666020888...                 8   \n",
       "\n",
       "      rating_denominator  name doggo floofer pupper puppo  \n",
       "2351                  10  None  None    None   None  None  \n",
       "2352                  10     a  None    None   None  None  \n",
       "2353                  10     a  None    None   None  None  \n",
       "2354                  10     a  None    None   None  None  \n",
       "2355                  10  None  None    None   None  None  "
      ]
     },
     "execution_count": 7,
     "metadata": {},
     "output_type": "execute_result"
    }
   ],
   "source": [
    "tae_df.tail()"
   ]
  },
  {
   "cell_type": "code",
   "execution_count": 8,
   "id": "e28966fd",
   "metadata": {},
   "outputs": [
    {
     "name": "stdout",
     "output_type": "stream",
     "text": [
      "<class 'pandas.core.frame.DataFrame'>\n",
      "RangeIndex: 2356 entries, 0 to 2355\n",
      "Data columns (total 17 columns):\n",
      " #   Column                      Non-Null Count  Dtype  \n",
      "---  ------                      --------------  -----  \n",
      " 0   tweet_id                    2356 non-null   int64  \n",
      " 1   in_reply_to_status_id       78 non-null     float64\n",
      " 2   in_reply_to_user_id         78 non-null     float64\n",
      " 3   timestamp                   2356 non-null   object \n",
      " 4   source                      2356 non-null   object \n",
      " 5   text                        2356 non-null   object \n",
      " 6   retweeted_status_id         181 non-null    float64\n",
      " 7   retweeted_status_user_id    181 non-null    float64\n",
      " 8   retweeted_status_timestamp  181 non-null    object \n",
      " 9   expanded_urls               2297 non-null   object \n",
      " 10  rating_numerator            2356 non-null   int64  \n",
      " 11  rating_denominator          2356 non-null   int64  \n",
      " 12  name                        2356 non-null   object \n",
      " 13  doggo                       2356 non-null   object \n",
      " 14  floofer                     2356 non-null   object \n",
      " 15  pupper                      2356 non-null   object \n",
      " 16  puppo                       2356 non-null   object \n",
      "dtypes: float64(4), int64(3), object(10)\n",
      "memory usage: 313.0+ KB\n"
     ]
    }
   ],
   "source": [
    "tae_df.info()"
   ]
  },
  {
   "cell_type": "code",
   "execution_count": 9,
   "id": "0b99f720",
   "metadata": {},
   "outputs": [
    {
     "data": {
      "text/plain": [
       "(2356, 17)"
      ]
     },
     "execution_count": 9,
     "metadata": {},
     "output_type": "execute_result"
    }
   ],
   "source": [
    "tae_df.shape"
   ]
  },
  {
   "cell_type": "code",
   "execution_count": 10,
   "id": "0b9f4ea7",
   "metadata": {},
   "outputs": [
    {
     "data": {
      "text/html": [
       "<div>\n",
       "<style scoped>\n",
       "    .dataframe tbody tr th:only-of-type {\n",
       "        vertical-align: middle;\n",
       "    }\n",
       "\n",
       "    .dataframe tbody tr th {\n",
       "        vertical-align: top;\n",
       "    }\n",
       "\n",
       "    .dataframe thead th {\n",
       "        text-align: right;\n",
       "    }\n",
       "</style>\n",
       "<table border=\"1\" class=\"dataframe\">\n",
       "  <thead>\n",
       "    <tr style=\"text-align: right;\">\n",
       "      <th></th>\n",
       "      <th>tweet_id</th>\n",
       "      <th>in_reply_to_status_id</th>\n",
       "      <th>in_reply_to_user_id</th>\n",
       "      <th>retweeted_status_id</th>\n",
       "      <th>retweeted_status_user_id</th>\n",
       "      <th>rating_numerator</th>\n",
       "      <th>rating_denominator</th>\n",
       "    </tr>\n",
       "  </thead>\n",
       "  <tbody>\n",
       "    <tr>\n",
       "      <th>count</th>\n",
       "      <td>2.356000e+03</td>\n",
       "      <td>7.800000e+01</td>\n",
       "      <td>7.800000e+01</td>\n",
       "      <td>1.810000e+02</td>\n",
       "      <td>1.810000e+02</td>\n",
       "      <td>2356.000000</td>\n",
       "      <td>2356.000000</td>\n",
       "    </tr>\n",
       "    <tr>\n",
       "      <th>mean</th>\n",
       "      <td>7.427716e+17</td>\n",
       "      <td>7.455079e+17</td>\n",
       "      <td>2.014171e+16</td>\n",
       "      <td>7.720400e+17</td>\n",
       "      <td>1.241698e+16</td>\n",
       "      <td>13.126486</td>\n",
       "      <td>10.455433</td>\n",
       "    </tr>\n",
       "    <tr>\n",
       "      <th>std</th>\n",
       "      <td>6.856705e+16</td>\n",
       "      <td>7.582492e+16</td>\n",
       "      <td>1.252797e+17</td>\n",
       "      <td>6.236928e+16</td>\n",
       "      <td>9.599254e+16</td>\n",
       "      <td>45.876648</td>\n",
       "      <td>6.745237</td>\n",
       "    </tr>\n",
       "    <tr>\n",
       "      <th>min</th>\n",
       "      <td>6.660209e+17</td>\n",
       "      <td>6.658147e+17</td>\n",
       "      <td>1.185634e+07</td>\n",
       "      <td>6.661041e+17</td>\n",
       "      <td>7.832140e+05</td>\n",
       "      <td>0.000000</td>\n",
       "      <td>0.000000</td>\n",
       "    </tr>\n",
       "    <tr>\n",
       "      <th>25%</th>\n",
       "      <td>6.783989e+17</td>\n",
       "      <td>6.757419e+17</td>\n",
       "      <td>3.086374e+08</td>\n",
       "      <td>7.186315e+17</td>\n",
       "      <td>4.196984e+09</td>\n",
       "      <td>10.000000</td>\n",
       "      <td>10.000000</td>\n",
       "    </tr>\n",
       "    <tr>\n",
       "      <th>50%</th>\n",
       "      <td>7.196279e+17</td>\n",
       "      <td>7.038708e+17</td>\n",
       "      <td>4.196984e+09</td>\n",
       "      <td>7.804657e+17</td>\n",
       "      <td>4.196984e+09</td>\n",
       "      <td>11.000000</td>\n",
       "      <td>10.000000</td>\n",
       "    </tr>\n",
       "    <tr>\n",
       "      <th>75%</th>\n",
       "      <td>7.993373e+17</td>\n",
       "      <td>8.257804e+17</td>\n",
       "      <td>4.196984e+09</td>\n",
       "      <td>8.203146e+17</td>\n",
       "      <td>4.196984e+09</td>\n",
       "      <td>12.000000</td>\n",
       "      <td>10.000000</td>\n",
       "    </tr>\n",
       "    <tr>\n",
       "      <th>max</th>\n",
       "      <td>8.924206e+17</td>\n",
       "      <td>8.862664e+17</td>\n",
       "      <td>8.405479e+17</td>\n",
       "      <td>8.874740e+17</td>\n",
       "      <td>7.874618e+17</td>\n",
       "      <td>1776.000000</td>\n",
       "      <td>170.000000</td>\n",
       "    </tr>\n",
       "  </tbody>\n",
       "</table>\n",
       "</div>"
      ],
      "text/plain": [
       "           tweet_id  in_reply_to_status_id  in_reply_to_user_id  \\\n",
       "count  2.356000e+03           7.800000e+01         7.800000e+01   \n",
       "mean   7.427716e+17           7.455079e+17         2.014171e+16   \n",
       "std    6.856705e+16           7.582492e+16         1.252797e+17   \n",
       "min    6.660209e+17           6.658147e+17         1.185634e+07   \n",
       "25%    6.783989e+17           6.757419e+17         3.086374e+08   \n",
       "50%    7.196279e+17           7.038708e+17         4.196984e+09   \n",
       "75%    7.993373e+17           8.257804e+17         4.196984e+09   \n",
       "max    8.924206e+17           8.862664e+17         8.405479e+17   \n",
       "\n",
       "       retweeted_status_id  retweeted_status_user_id  rating_numerator  \\\n",
       "count         1.810000e+02              1.810000e+02       2356.000000   \n",
       "mean          7.720400e+17              1.241698e+16         13.126486   \n",
       "std           6.236928e+16              9.599254e+16         45.876648   \n",
       "min           6.661041e+17              7.832140e+05          0.000000   \n",
       "25%           7.186315e+17              4.196984e+09         10.000000   \n",
       "50%           7.804657e+17              4.196984e+09         11.000000   \n",
       "75%           8.203146e+17              4.196984e+09         12.000000   \n",
       "max           8.874740e+17              7.874618e+17       1776.000000   \n",
       "\n",
       "       rating_denominator  \n",
       "count         2356.000000  \n",
       "mean            10.455433  \n",
       "std              6.745237  \n",
       "min              0.000000  \n",
       "25%             10.000000  \n",
       "50%             10.000000  \n",
       "75%             10.000000  \n",
       "max            170.000000  "
      ]
     },
     "execution_count": 10,
     "metadata": {},
     "output_type": "execute_result"
    }
   ],
   "source": [
    "tae_df.describe()"
   ]
  },
  {
   "cell_type": "code",
   "execution_count": 11,
   "id": "b20f5e31",
   "metadata": {},
   "outputs": [
    {
     "data": {
      "text/plain": [
       "0"
      ]
     },
     "execution_count": 11,
     "metadata": {},
     "output_type": "execute_result"
    }
   ],
   "source": [
    "tae_df.duplicated().sum()"
   ]
  },
  {
   "cell_type": "code",
   "execution_count": 12,
   "id": "cbefeae3",
   "metadata": {},
   "outputs": [
    {
     "data": {
      "text/plain": [
       "a               55\n",
       "the              8\n",
       "an               7\n",
       "very             5\n",
       "just             4\n",
       "quite            4\n",
       "one              4\n",
       "getting          2\n",
       "actually         2\n",
       "mad              2\n",
       "not              2\n",
       "old              1\n",
       "life             1\n",
       "officially       1\n",
       "light            1\n",
       "by               1\n",
       "infuriating      1\n",
       "such             1\n",
       "all              1\n",
       "unacceptable     1\n",
       "this             1\n",
       "his              1\n",
       "my               1\n",
       "incredibly       1\n",
       "space            1\n",
       "Name: name, dtype: int64"
      ]
     },
     "execution_count": 12,
     "metadata": {},
     "output_type": "execute_result"
    }
   ],
   "source": [
    "tae_df[tae_df.name.str.islower()].name.value_counts()"
   ]
  },
  {
   "cell_type": "code",
   "execution_count": 13,
   "id": "e59da88e",
   "metadata": {},
   "outputs": [
    {
     "data": {
      "text/html": [
       "<div>\n",
       "<style scoped>\n",
       "    .dataframe tbody tr th:only-of-type {\n",
       "        vertical-align: middle;\n",
       "    }\n",
       "\n",
       "    .dataframe tbody tr th {\n",
       "        vertical-align: top;\n",
       "    }\n",
       "\n",
       "    .dataframe thead th {\n",
       "        text-align: right;\n",
       "    }\n",
       "</style>\n",
       "<table border=\"1\" class=\"dataframe\">\n",
       "  <thead>\n",
       "    <tr style=\"text-align: right;\">\n",
       "      <th></th>\n",
       "      <th>tweet_id</th>\n",
       "      <th>in_reply_to_status_id</th>\n",
       "      <th>in_reply_to_user_id</th>\n",
       "      <th>timestamp</th>\n",
       "      <th>source</th>\n",
       "      <th>text</th>\n",
       "      <th>retweeted_status_id</th>\n",
       "      <th>retweeted_status_user_id</th>\n",
       "      <th>retweeted_status_timestamp</th>\n",
       "      <th>expanded_urls</th>\n",
       "      <th>rating_numerator</th>\n",
       "      <th>rating_denominator</th>\n",
       "      <th>name</th>\n",
       "      <th>doggo</th>\n",
       "      <th>floofer</th>\n",
       "      <th>pupper</th>\n",
       "      <th>puppo</th>\n",
       "    </tr>\n",
       "  </thead>\n",
       "  <tbody>\n",
       "    <tr>\n",
       "      <th>5</th>\n",
       "      <td>891087950875897856</td>\n",
       "      <td>NaN</td>\n",
       "      <td>NaN</td>\n",
       "      <td>2017-07-29 00:08:17 +0000</td>\n",
       "      <td>&lt;a href=\"http://twitter.com/download/iphone\" r...</td>\n",
       "      <td>Here we have a majestic great white breaching ...</td>\n",
       "      <td>NaN</td>\n",
       "      <td>NaN</td>\n",
       "      <td>NaN</td>\n",
       "      <td>https://twitter.com/dog_rates/status/891087950...</td>\n",
       "      <td>13</td>\n",
       "      <td>10</td>\n",
       "      <td>None</td>\n",
       "      <td>None</td>\n",
       "      <td>None</td>\n",
       "      <td>None</td>\n",
       "      <td>None</td>\n",
       "    </tr>\n",
       "    <tr>\n",
       "      <th>7</th>\n",
       "      <td>890729181411237888</td>\n",
       "      <td>NaN</td>\n",
       "      <td>NaN</td>\n",
       "      <td>2017-07-28 00:22:40 +0000</td>\n",
       "      <td>&lt;a href=\"http://twitter.com/download/iphone\" r...</td>\n",
       "      <td>When you watch your owner call another dog a g...</td>\n",
       "      <td>NaN</td>\n",
       "      <td>NaN</td>\n",
       "      <td>NaN</td>\n",
       "      <td>https://twitter.com/dog_rates/status/890729181...</td>\n",
       "      <td>13</td>\n",
       "      <td>10</td>\n",
       "      <td>None</td>\n",
       "      <td>None</td>\n",
       "      <td>None</td>\n",
       "      <td>None</td>\n",
       "      <td>None</td>\n",
       "    </tr>\n",
       "    <tr>\n",
       "      <th>12</th>\n",
       "      <td>889665388333682689</td>\n",
       "      <td>NaN</td>\n",
       "      <td>NaN</td>\n",
       "      <td>2017-07-25 01:55:32 +0000</td>\n",
       "      <td>&lt;a href=\"http://twitter.com/download/iphone\" r...</td>\n",
       "      <td>Here's a puppo that seems to be on the fence a...</td>\n",
       "      <td>NaN</td>\n",
       "      <td>NaN</td>\n",
       "      <td>NaN</td>\n",
       "      <td>https://twitter.com/dog_rates/status/889665388...</td>\n",
       "      <td>13</td>\n",
       "      <td>10</td>\n",
       "      <td>None</td>\n",
       "      <td>None</td>\n",
       "      <td>None</td>\n",
       "      <td>None</td>\n",
       "      <td>puppo</td>\n",
       "    </tr>\n",
       "    <tr>\n",
       "      <th>24</th>\n",
       "      <td>887343217045368832</td>\n",
       "      <td>NaN</td>\n",
       "      <td>NaN</td>\n",
       "      <td>2017-07-18 16:08:03 +0000</td>\n",
       "      <td>&lt;a href=\"http://twitter.com/download/iphone\" r...</td>\n",
       "      <td>You may not have known you needed to see this ...</td>\n",
       "      <td>NaN</td>\n",
       "      <td>NaN</td>\n",
       "      <td>NaN</td>\n",
       "      <td>https://twitter.com/dog_rates/status/887343217...</td>\n",
       "      <td>13</td>\n",
       "      <td>10</td>\n",
       "      <td>None</td>\n",
       "      <td>None</td>\n",
       "      <td>None</td>\n",
       "      <td>None</td>\n",
       "      <td>None</td>\n",
       "    </tr>\n",
       "    <tr>\n",
       "      <th>25</th>\n",
       "      <td>887101392804085760</td>\n",
       "      <td>NaN</td>\n",
       "      <td>NaN</td>\n",
       "      <td>2017-07-18 00:07:08 +0000</td>\n",
       "      <td>&lt;a href=\"http://twitter.com/download/iphone\" r...</td>\n",
       "      <td>This... is a Jubilant Antarctic House Bear. We...</td>\n",
       "      <td>NaN</td>\n",
       "      <td>NaN</td>\n",
       "      <td>NaN</td>\n",
       "      <td>https://twitter.com/dog_rates/status/887101392...</td>\n",
       "      <td>12</td>\n",
       "      <td>10</td>\n",
       "      <td>None</td>\n",
       "      <td>None</td>\n",
       "      <td>None</td>\n",
       "      <td>None</td>\n",
       "      <td>None</td>\n",
       "    </tr>\n",
       "    <tr>\n",
       "      <th>...</th>\n",
       "      <td>...</td>\n",
       "      <td>...</td>\n",
       "      <td>...</td>\n",
       "      <td>...</td>\n",
       "      <td>...</td>\n",
       "      <td>...</td>\n",
       "      <td>...</td>\n",
       "      <td>...</td>\n",
       "      <td>...</td>\n",
       "      <td>...</td>\n",
       "      <td>...</td>\n",
       "      <td>...</td>\n",
       "      <td>...</td>\n",
       "      <td>...</td>\n",
       "      <td>...</td>\n",
       "      <td>...</td>\n",
       "      <td>...</td>\n",
       "    </tr>\n",
       "    <tr>\n",
       "      <th>2342</th>\n",
       "      <td>666082916733198337</td>\n",
       "      <td>NaN</td>\n",
       "      <td>NaN</td>\n",
       "      <td>2015-11-16 02:38:37 +0000</td>\n",
       "      <td>&lt;a href=\"http://twitter.com/download/iphone\" r...</td>\n",
       "      <td>Here we have a well-established sunblockerspan...</td>\n",
       "      <td>NaN</td>\n",
       "      <td>NaN</td>\n",
       "      <td>NaN</td>\n",
       "      <td>https://twitter.com/dog_rates/status/666082916...</td>\n",
       "      <td>6</td>\n",
       "      <td>10</td>\n",
       "      <td>None</td>\n",
       "      <td>None</td>\n",
       "      <td>None</td>\n",
       "      <td>None</td>\n",
       "      <td>None</td>\n",
       "    </tr>\n",
       "    <tr>\n",
       "      <th>2343</th>\n",
       "      <td>666073100786774016</td>\n",
       "      <td>NaN</td>\n",
       "      <td>NaN</td>\n",
       "      <td>2015-11-16 01:59:36 +0000</td>\n",
       "      <td>&lt;a href=\"http://twitter.com/download/iphone\" r...</td>\n",
       "      <td>Let's hope this flight isn't Malaysian (lol). ...</td>\n",
       "      <td>NaN</td>\n",
       "      <td>NaN</td>\n",
       "      <td>NaN</td>\n",
       "      <td>https://twitter.com/dog_rates/status/666073100...</td>\n",
       "      <td>10</td>\n",
       "      <td>10</td>\n",
       "      <td>None</td>\n",
       "      <td>None</td>\n",
       "      <td>None</td>\n",
       "      <td>None</td>\n",
       "      <td>None</td>\n",
       "    </tr>\n",
       "    <tr>\n",
       "      <th>2344</th>\n",
       "      <td>666071193221509120</td>\n",
       "      <td>NaN</td>\n",
       "      <td>NaN</td>\n",
       "      <td>2015-11-16 01:52:02 +0000</td>\n",
       "      <td>&lt;a href=\"http://twitter.com/download/iphone\" r...</td>\n",
       "      <td>Here we have a northern speckled Rhododendron....</td>\n",
       "      <td>NaN</td>\n",
       "      <td>NaN</td>\n",
       "      <td>NaN</td>\n",
       "      <td>https://twitter.com/dog_rates/status/666071193...</td>\n",
       "      <td>9</td>\n",
       "      <td>10</td>\n",
       "      <td>None</td>\n",
       "      <td>None</td>\n",
       "      <td>None</td>\n",
       "      <td>None</td>\n",
       "      <td>None</td>\n",
       "    </tr>\n",
       "    <tr>\n",
       "      <th>2351</th>\n",
       "      <td>666049248165822465</td>\n",
       "      <td>NaN</td>\n",
       "      <td>NaN</td>\n",
       "      <td>2015-11-16 00:24:50 +0000</td>\n",
       "      <td>&lt;a href=\"http://twitter.com/download/iphone\" r...</td>\n",
       "      <td>Here we have a 1949 1st generation vulpix. Enj...</td>\n",
       "      <td>NaN</td>\n",
       "      <td>NaN</td>\n",
       "      <td>NaN</td>\n",
       "      <td>https://twitter.com/dog_rates/status/666049248...</td>\n",
       "      <td>5</td>\n",
       "      <td>10</td>\n",
       "      <td>None</td>\n",
       "      <td>None</td>\n",
       "      <td>None</td>\n",
       "      <td>None</td>\n",
       "      <td>None</td>\n",
       "    </tr>\n",
       "    <tr>\n",
       "      <th>2355</th>\n",
       "      <td>666020888022790149</td>\n",
       "      <td>NaN</td>\n",
       "      <td>NaN</td>\n",
       "      <td>2015-11-15 22:32:08 +0000</td>\n",
       "      <td>&lt;a href=\"http://twitter.com/download/iphone\" r...</td>\n",
       "      <td>Here we have a Japanese Irish Setter. Lost eye...</td>\n",
       "      <td>NaN</td>\n",
       "      <td>NaN</td>\n",
       "      <td>NaN</td>\n",
       "      <td>https://twitter.com/dog_rates/status/666020888...</td>\n",
       "      <td>8</td>\n",
       "      <td>10</td>\n",
       "      <td>None</td>\n",
       "      <td>None</td>\n",
       "      <td>None</td>\n",
       "      <td>None</td>\n",
       "      <td>None</td>\n",
       "    </tr>\n",
       "  </tbody>\n",
       "</table>\n",
       "<p>745 rows × 17 columns</p>\n",
       "</div>"
      ],
      "text/plain": [
       "                tweet_id  in_reply_to_status_id  in_reply_to_user_id  \\\n",
       "5     891087950875897856                    NaN                  NaN   \n",
       "7     890729181411237888                    NaN                  NaN   \n",
       "12    889665388333682689                    NaN                  NaN   \n",
       "24    887343217045368832                    NaN                  NaN   \n",
       "25    887101392804085760                    NaN                  NaN   \n",
       "...                  ...                    ...                  ...   \n",
       "2342  666082916733198337                    NaN                  NaN   \n",
       "2343  666073100786774016                    NaN                  NaN   \n",
       "2344  666071193221509120                    NaN                  NaN   \n",
       "2351  666049248165822465                    NaN                  NaN   \n",
       "2355  666020888022790149                    NaN                  NaN   \n",
       "\n",
       "                      timestamp  \\\n",
       "5     2017-07-29 00:08:17 +0000   \n",
       "7     2017-07-28 00:22:40 +0000   \n",
       "12    2017-07-25 01:55:32 +0000   \n",
       "24    2017-07-18 16:08:03 +0000   \n",
       "25    2017-07-18 00:07:08 +0000   \n",
       "...                         ...   \n",
       "2342  2015-11-16 02:38:37 +0000   \n",
       "2343  2015-11-16 01:59:36 +0000   \n",
       "2344  2015-11-16 01:52:02 +0000   \n",
       "2351  2015-11-16 00:24:50 +0000   \n",
       "2355  2015-11-15 22:32:08 +0000   \n",
       "\n",
       "                                                 source  \\\n",
       "5     <a href=\"http://twitter.com/download/iphone\" r...   \n",
       "7     <a href=\"http://twitter.com/download/iphone\" r...   \n",
       "12    <a href=\"http://twitter.com/download/iphone\" r...   \n",
       "24    <a href=\"http://twitter.com/download/iphone\" r...   \n",
       "25    <a href=\"http://twitter.com/download/iphone\" r...   \n",
       "...                                                 ...   \n",
       "2342  <a href=\"http://twitter.com/download/iphone\" r...   \n",
       "2343  <a href=\"http://twitter.com/download/iphone\" r...   \n",
       "2344  <a href=\"http://twitter.com/download/iphone\" r...   \n",
       "2351  <a href=\"http://twitter.com/download/iphone\" r...   \n",
       "2355  <a href=\"http://twitter.com/download/iphone\" r...   \n",
       "\n",
       "                                                   text  retweeted_status_id  \\\n",
       "5     Here we have a majestic great white breaching ...                  NaN   \n",
       "7     When you watch your owner call another dog a g...                  NaN   \n",
       "12    Here's a puppo that seems to be on the fence a...                  NaN   \n",
       "24    You may not have known you needed to see this ...                  NaN   \n",
       "25    This... is a Jubilant Antarctic House Bear. We...                  NaN   \n",
       "...                                                 ...                  ...   \n",
       "2342  Here we have a well-established sunblockerspan...                  NaN   \n",
       "2343  Let's hope this flight isn't Malaysian (lol). ...                  NaN   \n",
       "2344  Here we have a northern speckled Rhododendron....                  NaN   \n",
       "2351  Here we have a 1949 1st generation vulpix. Enj...                  NaN   \n",
       "2355  Here we have a Japanese Irish Setter. Lost eye...                  NaN   \n",
       "\n",
       "      retweeted_status_user_id retweeted_status_timestamp  \\\n",
       "5                          NaN                        NaN   \n",
       "7                          NaN                        NaN   \n",
       "12                         NaN                        NaN   \n",
       "24                         NaN                        NaN   \n",
       "25                         NaN                        NaN   \n",
       "...                        ...                        ...   \n",
       "2342                       NaN                        NaN   \n",
       "2343                       NaN                        NaN   \n",
       "2344                       NaN                        NaN   \n",
       "2351                       NaN                        NaN   \n",
       "2355                       NaN                        NaN   \n",
       "\n",
       "                                          expanded_urls  rating_numerator  \\\n",
       "5     https://twitter.com/dog_rates/status/891087950...                13   \n",
       "7     https://twitter.com/dog_rates/status/890729181...                13   \n",
       "12    https://twitter.com/dog_rates/status/889665388...                13   \n",
       "24    https://twitter.com/dog_rates/status/887343217...                13   \n",
       "25    https://twitter.com/dog_rates/status/887101392...                12   \n",
       "...                                                 ...               ...   \n",
       "2342  https://twitter.com/dog_rates/status/666082916...                 6   \n",
       "2343  https://twitter.com/dog_rates/status/666073100...                10   \n",
       "2344  https://twitter.com/dog_rates/status/666071193...                 9   \n",
       "2351  https://twitter.com/dog_rates/status/666049248...                 5   \n",
       "2355  https://twitter.com/dog_rates/status/666020888...                 8   \n",
       "\n",
       "      rating_denominator  name doggo floofer pupper  puppo  \n",
       "5                     10  None  None    None   None   None  \n",
       "7                     10  None  None    None   None   None  \n",
       "12                    10  None  None    None   None  puppo  \n",
       "24                    10  None  None    None   None   None  \n",
       "25                    10  None  None    None   None   None  \n",
       "...                  ...   ...   ...     ...    ...    ...  \n",
       "2342                  10  None  None    None   None   None  \n",
       "2343                  10  None  None    None   None   None  \n",
       "2344                  10  None  None    None   None   None  \n",
       "2351                  10  None  None    None   None   None  \n",
       "2355                  10  None  None    None   None   None  \n",
       "\n",
       "[745 rows x 17 columns]"
      ]
     },
     "execution_count": 13,
     "metadata": {},
     "output_type": "execute_result"
    }
   ],
   "source": [
    "tae_df.query('name == \"None\"')"
   ]
  },
  {
   "cell_type": "code",
   "execution_count": 14,
   "id": "fcefee3a",
   "metadata": {},
   "outputs": [
    {
     "data": {
      "text/plain": [
       "59"
      ]
     },
     "execution_count": 14,
     "metadata": {},
     "output_type": "execute_result"
    }
   ],
   "source": [
    "tae_df['expanded_urls'].isnull().sum()"
   ]
  },
  {
   "cell_type": "code",
   "execution_count": 15,
   "id": "fa4eeb57",
   "metadata": {},
   "outputs": [
    {
     "data": {
      "text/plain": [
       "https://twitter.com/dog_rates/status/667152164079423490/photo/1                                                                                                                                                                                                    2\n",
       "https://twitter.com/dog_rates/status/718631497683582976/photo/1                                                                                                                                                                                                    2\n",
       "https://twitter.com/dog_rates/status/783839966405230592/photo/1,https://twitter.com/dog_rates/status/783839966405230592/photo/1,https://twitter.com/dog_rates/status/783839966405230592/photo/1                                                                    2\n",
       "https://twitter.com/dog_rates/status/774314403806253056/photo/1,https://twitter.com/dog_rates/status/774314403806253056/photo/1,https://twitter.com/dog_rates/status/774314403806253056/photo/1,https://twitter.com/dog_rates/status/774314403806253056/photo/1    2\n",
       "https://twitter.com/dog_rates/status/781524693396357120/photo/1                                                                                                                                                                                                    2\n",
       "                                                                                                                                                                                                                                                                  ..\n",
       "https://twitter.com/dog_rates/status/763837565564780549/photo/1                                                                                                                                                                                                    1\n",
       "https://twitter.com/dog_rates/status/764259802650378240/photo/1,https://twitter.com/dog_rates/status/764259802650378240/photo/1                                                                                                                                    1\n",
       "https://twitter.com/dog_rates/status/764857477905154048/photo/1                                                                                                                                                                                                    1\n",
       "https://twitter.com/dog_rates/status/765222098633691136/photo/1                                                                                                                                                                                                    1\n",
       "https://twitter.com/dog_rates/status/666020888022790149/photo/1                                                                                                                                                                                                    1\n",
       "Name: expanded_urls, Length: 2218, dtype: int64"
      ]
     },
     "execution_count": 15,
     "metadata": {},
     "output_type": "execute_result"
    }
   ],
   "source": [
    "tae_df['expanded_urls'].value_counts()"
   ]
  },
  {
   "cell_type": "code",
   "execution_count": 16,
   "id": "1a08da5b",
   "metadata": {},
   "outputs": [
    {
     "data": {
      "text/plain": [
       "True"
      ]
     },
     "execution_count": 16,
     "metadata": {},
     "output_type": "execute_result"
    }
   ],
   "source": [
    "tae_df['rating_denominator'].where(tae_df['rating_denominator']>10).any()"
   ]
  },
  {
   "cell_type": "code",
   "execution_count": 17,
   "id": "4c824bfd",
   "metadata": {},
   "outputs": [
    {
     "data": {
      "text/plain": [
       "<a href=\"http://twitter.com/download/iphone\" rel=\"nofollow\">Twitter for iPhone</a>     2221\n",
       "<a href=\"http://vine.co\" rel=\"nofollow\">Vine - Make a Scene</a>                          91\n",
       "<a href=\"http://twitter.com\" rel=\"nofollow\">Twitter Web Client</a>                       33\n",
       "<a href=\"https://about.twitter.com/products/tweetdeck\" rel=\"nofollow\">TweetDeck</a>      11\n",
       "Name: source, dtype: int64"
      ]
     },
     "execution_count": 17,
     "metadata": {},
     "output_type": "execute_result"
    }
   ],
   "source": [
    "tae_df['source'].value_counts()"
   ]
  },
  {
   "cell_type": "code",
   "execution_count": 18,
   "id": "d0a8d1f4",
   "metadata": {},
   "outputs": [
    {
     "data": {
      "text/html": [
       "<div>\n",
       "<style scoped>\n",
       "    .dataframe tbody tr th:only-of-type {\n",
       "        vertical-align: middle;\n",
       "    }\n",
       "\n",
       "    .dataframe tbody tr th {\n",
       "        vertical-align: top;\n",
       "    }\n",
       "\n",
       "    .dataframe thead th {\n",
       "        text-align: right;\n",
       "    }\n",
       "</style>\n",
       "<table border=\"1\" class=\"dataframe\">\n",
       "  <thead>\n",
       "    <tr style=\"text-align: right;\">\n",
       "      <th></th>\n",
       "      <th>tweet_id</th>\n",
       "      <th>jpg_url</th>\n",
       "      <th>img_num</th>\n",
       "      <th>p1</th>\n",
       "      <th>p1_conf</th>\n",
       "      <th>p1_dog</th>\n",
       "      <th>p2</th>\n",
       "      <th>p2_conf</th>\n",
       "      <th>p2_dog</th>\n",
       "      <th>p3</th>\n",
       "      <th>p3_conf</th>\n",
       "      <th>p3_dog</th>\n",
       "    </tr>\n",
       "  </thead>\n",
       "  <tbody>\n",
       "    <tr>\n",
       "      <th>0</th>\n",
       "      <td>666020888022790149</td>\n",
       "      <td>https://pbs.twimg.com/media/CT4udn0WwAA0aMy.jpg</td>\n",
       "      <td>1</td>\n",
       "      <td>Welsh_springer_spaniel</td>\n",
       "      <td>0.465074</td>\n",
       "      <td>True</td>\n",
       "      <td>collie</td>\n",
       "      <td>0.156665</td>\n",
       "      <td>True</td>\n",
       "      <td>Shetland_sheepdog</td>\n",
       "      <td>0.061428</td>\n",
       "      <td>True</td>\n",
       "    </tr>\n",
       "    <tr>\n",
       "      <th>1</th>\n",
       "      <td>666029285002620928</td>\n",
       "      <td>https://pbs.twimg.com/media/CT42GRgUYAA5iDo.jpg</td>\n",
       "      <td>1</td>\n",
       "      <td>redbone</td>\n",
       "      <td>0.506826</td>\n",
       "      <td>True</td>\n",
       "      <td>miniature_pinscher</td>\n",
       "      <td>0.074192</td>\n",
       "      <td>True</td>\n",
       "      <td>Rhodesian_ridgeback</td>\n",
       "      <td>0.072010</td>\n",
       "      <td>True</td>\n",
       "    </tr>\n",
       "    <tr>\n",
       "      <th>2</th>\n",
       "      <td>666033412701032449</td>\n",
       "      <td>https://pbs.twimg.com/media/CT4521TWwAEvMyu.jpg</td>\n",
       "      <td>1</td>\n",
       "      <td>German_shepherd</td>\n",
       "      <td>0.596461</td>\n",
       "      <td>True</td>\n",
       "      <td>malinois</td>\n",
       "      <td>0.138584</td>\n",
       "      <td>True</td>\n",
       "      <td>bloodhound</td>\n",
       "      <td>0.116197</td>\n",
       "      <td>True</td>\n",
       "    </tr>\n",
       "    <tr>\n",
       "      <th>3</th>\n",
       "      <td>666044226329800704</td>\n",
       "      <td>https://pbs.twimg.com/media/CT5Dr8HUEAA-lEu.jpg</td>\n",
       "      <td>1</td>\n",
       "      <td>Rhodesian_ridgeback</td>\n",
       "      <td>0.408143</td>\n",
       "      <td>True</td>\n",
       "      <td>redbone</td>\n",
       "      <td>0.360687</td>\n",
       "      <td>True</td>\n",
       "      <td>miniature_pinscher</td>\n",
       "      <td>0.222752</td>\n",
       "      <td>True</td>\n",
       "    </tr>\n",
       "    <tr>\n",
       "      <th>4</th>\n",
       "      <td>666049248165822465</td>\n",
       "      <td>https://pbs.twimg.com/media/CT5IQmsXIAAKY4A.jpg</td>\n",
       "      <td>1</td>\n",
       "      <td>miniature_pinscher</td>\n",
       "      <td>0.560311</td>\n",
       "      <td>True</td>\n",
       "      <td>Rottweiler</td>\n",
       "      <td>0.243682</td>\n",
       "      <td>True</td>\n",
       "      <td>Doberman</td>\n",
       "      <td>0.154629</td>\n",
       "      <td>True</td>\n",
       "    </tr>\n",
       "  </tbody>\n",
       "</table>\n",
       "</div>"
      ],
      "text/plain": [
       "             tweet_id                                          jpg_url  \\\n",
       "0  666020888022790149  https://pbs.twimg.com/media/CT4udn0WwAA0aMy.jpg   \n",
       "1  666029285002620928  https://pbs.twimg.com/media/CT42GRgUYAA5iDo.jpg   \n",
       "2  666033412701032449  https://pbs.twimg.com/media/CT4521TWwAEvMyu.jpg   \n",
       "3  666044226329800704  https://pbs.twimg.com/media/CT5Dr8HUEAA-lEu.jpg   \n",
       "4  666049248165822465  https://pbs.twimg.com/media/CT5IQmsXIAAKY4A.jpg   \n",
       "\n",
       "   img_num                      p1   p1_conf  p1_dog                  p2  \\\n",
       "0        1  Welsh_springer_spaniel  0.465074    True              collie   \n",
       "1        1                 redbone  0.506826    True  miniature_pinscher   \n",
       "2        1         German_shepherd  0.596461    True            malinois   \n",
       "3        1     Rhodesian_ridgeback  0.408143    True             redbone   \n",
       "4        1      miniature_pinscher  0.560311    True          Rottweiler   \n",
       "\n",
       "    p2_conf  p2_dog                   p3   p3_conf  p3_dog  \n",
       "0  0.156665    True    Shetland_sheepdog  0.061428    True  \n",
       "1  0.074192    True  Rhodesian_ridgeback  0.072010    True  \n",
       "2  0.138584    True           bloodhound  0.116197    True  \n",
       "3  0.360687    True   miniature_pinscher  0.222752    True  \n",
       "4  0.243682    True             Doberman  0.154629    True  "
      ]
     },
     "execution_count": 18,
     "metadata": {},
     "output_type": "execute_result"
    }
   ],
   "source": [
    "ip_df.head()"
   ]
  },
  {
   "cell_type": "code",
   "execution_count": 19,
   "id": "eaa02143",
   "metadata": {},
   "outputs": [
    {
     "data": {
      "text/html": [
       "<div>\n",
       "<style scoped>\n",
       "    .dataframe tbody tr th:only-of-type {\n",
       "        vertical-align: middle;\n",
       "    }\n",
       "\n",
       "    .dataframe tbody tr th {\n",
       "        vertical-align: top;\n",
       "    }\n",
       "\n",
       "    .dataframe thead th {\n",
       "        text-align: right;\n",
       "    }\n",
       "</style>\n",
       "<table border=\"1\" class=\"dataframe\">\n",
       "  <thead>\n",
       "    <tr style=\"text-align: right;\">\n",
       "      <th></th>\n",
       "      <th>tweet_id</th>\n",
       "      <th>jpg_url</th>\n",
       "      <th>img_num</th>\n",
       "      <th>p1</th>\n",
       "      <th>p1_conf</th>\n",
       "      <th>p1_dog</th>\n",
       "      <th>p2</th>\n",
       "      <th>p2_conf</th>\n",
       "      <th>p2_dog</th>\n",
       "      <th>p3</th>\n",
       "      <th>p3_conf</th>\n",
       "      <th>p3_dog</th>\n",
       "    </tr>\n",
       "  </thead>\n",
       "  <tbody>\n",
       "    <tr>\n",
       "      <th>2070</th>\n",
       "      <td>891327558926688256</td>\n",
       "      <td>https://pbs.twimg.com/media/DF6hr6BUMAAzZgT.jpg</td>\n",
       "      <td>2</td>\n",
       "      <td>basset</td>\n",
       "      <td>0.555712</td>\n",
       "      <td>True</td>\n",
       "      <td>English_springer</td>\n",
       "      <td>0.225770</td>\n",
       "      <td>True</td>\n",
       "      <td>German_short-haired_pointer</td>\n",
       "      <td>0.175219</td>\n",
       "      <td>True</td>\n",
       "    </tr>\n",
       "    <tr>\n",
       "      <th>2071</th>\n",
       "      <td>891689557279858688</td>\n",
       "      <td>https://pbs.twimg.com/media/DF_q7IAWsAEuuN8.jpg</td>\n",
       "      <td>1</td>\n",
       "      <td>paper_towel</td>\n",
       "      <td>0.170278</td>\n",
       "      <td>False</td>\n",
       "      <td>Labrador_retriever</td>\n",
       "      <td>0.168086</td>\n",
       "      <td>True</td>\n",
       "      <td>spatula</td>\n",
       "      <td>0.040836</td>\n",
       "      <td>False</td>\n",
       "    </tr>\n",
       "    <tr>\n",
       "      <th>2072</th>\n",
       "      <td>891815181378084864</td>\n",
       "      <td>https://pbs.twimg.com/media/DGBdLU1WsAANxJ9.jpg</td>\n",
       "      <td>1</td>\n",
       "      <td>Chihuahua</td>\n",
       "      <td>0.716012</td>\n",
       "      <td>True</td>\n",
       "      <td>malamute</td>\n",
       "      <td>0.078253</td>\n",
       "      <td>True</td>\n",
       "      <td>kelpie</td>\n",
       "      <td>0.031379</td>\n",
       "      <td>True</td>\n",
       "    </tr>\n",
       "    <tr>\n",
       "      <th>2073</th>\n",
       "      <td>892177421306343426</td>\n",
       "      <td>https://pbs.twimg.com/media/DGGmoV4XsAAUL6n.jpg</td>\n",
       "      <td>1</td>\n",
       "      <td>Chihuahua</td>\n",
       "      <td>0.323581</td>\n",
       "      <td>True</td>\n",
       "      <td>Pekinese</td>\n",
       "      <td>0.090647</td>\n",
       "      <td>True</td>\n",
       "      <td>papillon</td>\n",
       "      <td>0.068957</td>\n",
       "      <td>True</td>\n",
       "    </tr>\n",
       "    <tr>\n",
       "      <th>2074</th>\n",
       "      <td>892420643555336193</td>\n",
       "      <td>https://pbs.twimg.com/media/DGKD1-bXoAAIAUK.jpg</td>\n",
       "      <td>1</td>\n",
       "      <td>orange</td>\n",
       "      <td>0.097049</td>\n",
       "      <td>False</td>\n",
       "      <td>bagel</td>\n",
       "      <td>0.085851</td>\n",
       "      <td>False</td>\n",
       "      <td>banana</td>\n",
       "      <td>0.076110</td>\n",
       "      <td>False</td>\n",
       "    </tr>\n",
       "  </tbody>\n",
       "</table>\n",
       "</div>"
      ],
      "text/plain": [
       "                tweet_id                                          jpg_url  \\\n",
       "2070  891327558926688256  https://pbs.twimg.com/media/DF6hr6BUMAAzZgT.jpg   \n",
       "2071  891689557279858688  https://pbs.twimg.com/media/DF_q7IAWsAEuuN8.jpg   \n",
       "2072  891815181378084864  https://pbs.twimg.com/media/DGBdLU1WsAANxJ9.jpg   \n",
       "2073  892177421306343426  https://pbs.twimg.com/media/DGGmoV4XsAAUL6n.jpg   \n",
       "2074  892420643555336193  https://pbs.twimg.com/media/DGKD1-bXoAAIAUK.jpg   \n",
       "\n",
       "      img_num           p1   p1_conf  p1_dog                  p2   p2_conf  \\\n",
       "2070        2       basset  0.555712    True    English_springer  0.225770   \n",
       "2071        1  paper_towel  0.170278   False  Labrador_retriever  0.168086   \n",
       "2072        1    Chihuahua  0.716012    True            malamute  0.078253   \n",
       "2073        1    Chihuahua  0.323581    True            Pekinese  0.090647   \n",
       "2074        1       orange  0.097049   False               bagel  0.085851   \n",
       "\n",
       "      p2_dog                           p3   p3_conf  p3_dog  \n",
       "2070    True  German_short-haired_pointer  0.175219    True  \n",
       "2071    True                      spatula  0.040836   False  \n",
       "2072    True                       kelpie  0.031379    True  \n",
       "2073    True                     papillon  0.068957    True  \n",
       "2074   False                       banana  0.076110   False  "
      ]
     },
     "execution_count": 19,
     "metadata": {},
     "output_type": "execute_result"
    }
   ],
   "source": [
    "ip_df.tail()"
   ]
  },
  {
   "cell_type": "code",
   "execution_count": 20,
   "id": "97fd3fdc",
   "metadata": {},
   "outputs": [
    {
     "data": {
      "text/plain": [
       "(2075, 12)"
      ]
     },
     "execution_count": 20,
     "metadata": {},
     "output_type": "execute_result"
    }
   ],
   "source": [
    "ip_df.shape"
   ]
  },
  {
   "cell_type": "code",
   "execution_count": 21,
   "id": "07c468f5",
   "metadata": {},
   "outputs": [
    {
     "data": {
      "text/html": [
       "<div>\n",
       "<style scoped>\n",
       "    .dataframe tbody tr th:only-of-type {\n",
       "        vertical-align: middle;\n",
       "    }\n",
       "\n",
       "    .dataframe tbody tr th {\n",
       "        vertical-align: top;\n",
       "    }\n",
       "\n",
       "    .dataframe thead th {\n",
       "        text-align: right;\n",
       "    }\n",
       "</style>\n",
       "<table border=\"1\" class=\"dataframe\">\n",
       "  <thead>\n",
       "    <tr style=\"text-align: right;\">\n",
       "      <th></th>\n",
       "      <th>tweet_id</th>\n",
       "      <th>img_num</th>\n",
       "      <th>p1_conf</th>\n",
       "      <th>p2_conf</th>\n",
       "      <th>p3_conf</th>\n",
       "    </tr>\n",
       "  </thead>\n",
       "  <tbody>\n",
       "    <tr>\n",
       "      <th>count</th>\n",
       "      <td>2.075000e+03</td>\n",
       "      <td>2075.000000</td>\n",
       "      <td>2075.000000</td>\n",
       "      <td>2.075000e+03</td>\n",
       "      <td>2.075000e+03</td>\n",
       "    </tr>\n",
       "    <tr>\n",
       "      <th>mean</th>\n",
       "      <td>7.384514e+17</td>\n",
       "      <td>1.203855</td>\n",
       "      <td>0.594548</td>\n",
       "      <td>1.345886e-01</td>\n",
       "      <td>6.032417e-02</td>\n",
       "    </tr>\n",
       "    <tr>\n",
       "      <th>std</th>\n",
       "      <td>6.785203e+16</td>\n",
       "      <td>0.561875</td>\n",
       "      <td>0.271174</td>\n",
       "      <td>1.006657e-01</td>\n",
       "      <td>5.090593e-02</td>\n",
       "    </tr>\n",
       "    <tr>\n",
       "      <th>min</th>\n",
       "      <td>6.660209e+17</td>\n",
       "      <td>1.000000</td>\n",
       "      <td>0.044333</td>\n",
       "      <td>1.011300e-08</td>\n",
       "      <td>1.740170e-10</td>\n",
       "    </tr>\n",
       "    <tr>\n",
       "      <th>25%</th>\n",
       "      <td>6.764835e+17</td>\n",
       "      <td>1.000000</td>\n",
       "      <td>0.364412</td>\n",
       "      <td>5.388625e-02</td>\n",
       "      <td>1.622240e-02</td>\n",
       "    </tr>\n",
       "    <tr>\n",
       "      <th>50%</th>\n",
       "      <td>7.119988e+17</td>\n",
       "      <td>1.000000</td>\n",
       "      <td>0.588230</td>\n",
       "      <td>1.181810e-01</td>\n",
       "      <td>4.944380e-02</td>\n",
       "    </tr>\n",
       "    <tr>\n",
       "      <th>75%</th>\n",
       "      <td>7.932034e+17</td>\n",
       "      <td>1.000000</td>\n",
       "      <td>0.843855</td>\n",
       "      <td>1.955655e-01</td>\n",
       "      <td>9.180755e-02</td>\n",
       "    </tr>\n",
       "    <tr>\n",
       "      <th>max</th>\n",
       "      <td>8.924206e+17</td>\n",
       "      <td>4.000000</td>\n",
       "      <td>1.000000</td>\n",
       "      <td>4.880140e-01</td>\n",
       "      <td>2.734190e-01</td>\n",
       "    </tr>\n",
       "  </tbody>\n",
       "</table>\n",
       "</div>"
      ],
      "text/plain": [
       "           tweet_id      img_num      p1_conf       p2_conf       p3_conf\n",
       "count  2.075000e+03  2075.000000  2075.000000  2.075000e+03  2.075000e+03\n",
       "mean   7.384514e+17     1.203855     0.594548  1.345886e-01  6.032417e-02\n",
       "std    6.785203e+16     0.561875     0.271174  1.006657e-01  5.090593e-02\n",
       "min    6.660209e+17     1.000000     0.044333  1.011300e-08  1.740170e-10\n",
       "25%    6.764835e+17     1.000000     0.364412  5.388625e-02  1.622240e-02\n",
       "50%    7.119988e+17     1.000000     0.588230  1.181810e-01  4.944380e-02\n",
       "75%    7.932034e+17     1.000000     0.843855  1.955655e-01  9.180755e-02\n",
       "max    8.924206e+17     4.000000     1.000000  4.880140e-01  2.734190e-01"
      ]
     },
     "execution_count": 21,
     "metadata": {},
     "output_type": "execute_result"
    }
   ],
   "source": [
    "ip_df.describe()"
   ]
  },
  {
   "cell_type": "code",
   "execution_count": 22,
   "id": "c98de39b",
   "metadata": {},
   "outputs": [
    {
     "name": "stdout",
     "output_type": "stream",
     "text": [
      "<class 'pandas.core.frame.DataFrame'>\n",
      "RangeIndex: 2075 entries, 0 to 2074\n",
      "Data columns (total 12 columns):\n",
      " #   Column    Non-Null Count  Dtype  \n",
      "---  ------    --------------  -----  \n",
      " 0   tweet_id  2075 non-null   int64  \n",
      " 1   jpg_url   2075 non-null   object \n",
      " 2   img_num   2075 non-null   int64  \n",
      " 3   p1        2075 non-null   object \n",
      " 4   p1_conf   2075 non-null   float64\n",
      " 5   p1_dog    2075 non-null   bool   \n",
      " 6   p2        2075 non-null   object \n",
      " 7   p2_conf   2075 non-null   float64\n",
      " 8   p2_dog    2075 non-null   bool   \n",
      " 9   p3        2075 non-null   object \n",
      " 10  p3_conf   2075 non-null   float64\n",
      " 11  p3_dog    2075 non-null   bool   \n",
      "dtypes: bool(3), float64(3), int64(2), object(4)\n",
      "memory usage: 152.1+ KB\n"
     ]
    }
   ],
   "source": [
    "ip_df.info()"
   ]
  },
  {
   "cell_type": "code",
   "execution_count": 23,
   "id": "dcf98c2e",
   "metadata": {},
   "outputs": [
    {
     "data": {
      "text/plain": [
       "0"
      ]
     },
     "execution_count": 23,
     "metadata": {},
     "output_type": "execute_result"
    }
   ],
   "source": [
    "ip_df.duplicated().sum()"
   ]
  },
  {
   "cell_type": "code",
   "execution_count": 24,
   "id": "a776638f",
   "metadata": {},
   "outputs": [
    {
     "data": {
      "text/plain": [
       "https://pbs.twimg.com/media/CZhn-QAWwAASQan.jpg                                            2\n",
       "https://pbs.twimg.com/media/Cq9guJ5WgAADfpF.jpg                                            2\n",
       "https://pbs.twimg.com/ext_tw_video_thumb/807106774843039744/pu/img/8XZg1xW35Xp2J6JW.jpg    2\n",
       "https://pbs.twimg.com/media/CU1zsMSUAAAS0qW.jpg                                            2\n",
       "https://pbs.twimg.com/media/CsrjryzWgAAZY00.jpg                                            2\n",
       "                                                                                          ..\n",
       "https://pbs.twimg.com/media/CXrmMSpUwAAdeRj.jpg                                            1\n",
       "https://pbs.twimg.com/media/CXrawAhWkAAWSxC.jpg                                            1\n",
       "https://pbs.twimg.com/media/CXrIntsUsAEkv0d.jpg                                            1\n",
       "https://pbs.twimg.com/media/CXqcOHCUQAAugTB.jpg                                            1\n",
       "https://pbs.twimg.com/media/DGKD1-bXoAAIAUK.jpg                                            1\n",
       "Name: jpg_url, Length: 2009, dtype: int64"
      ]
     },
     "execution_count": 24,
     "metadata": {},
     "output_type": "execute_result"
    }
   ],
   "source": [
    "ip_df['jpg_url'].value_counts()"
   ]
  },
  {
   "cell_type": "code",
   "execution_count": 25,
   "id": "f86e176f",
   "metadata": {},
   "outputs": [
    {
     "data": {
      "text/html": [
       "<div>\n",
       "<style scoped>\n",
       "    .dataframe tbody tr th:only-of-type {\n",
       "        vertical-align: middle;\n",
       "    }\n",
       "\n",
       "    .dataframe tbody tr th {\n",
       "        vertical-align: top;\n",
       "    }\n",
       "\n",
       "    .dataframe thead th {\n",
       "        text-align: right;\n",
       "    }\n",
       "</style>\n",
       "<table border=\"1\" class=\"dataframe\">\n",
       "  <thead>\n",
       "    <tr style=\"text-align: right;\">\n",
       "      <th></th>\n",
       "      <th>tweet_id</th>\n",
       "      <th>retweet_count</th>\n",
       "      <th>favorite_count</th>\n",
       "    </tr>\n",
       "  </thead>\n",
       "  <tbody>\n",
       "    <tr>\n",
       "      <th>0</th>\n",
       "      <td>892420643555336193</td>\n",
       "      <td>8853</td>\n",
       "      <td>39467</td>\n",
       "    </tr>\n",
       "    <tr>\n",
       "      <th>1</th>\n",
       "      <td>892177421306343426</td>\n",
       "      <td>6514</td>\n",
       "      <td>33819</td>\n",
       "    </tr>\n",
       "    <tr>\n",
       "      <th>2</th>\n",
       "      <td>891815181378084864</td>\n",
       "      <td>4328</td>\n",
       "      <td>25461</td>\n",
       "    </tr>\n",
       "    <tr>\n",
       "      <th>3</th>\n",
       "      <td>891689557279858688</td>\n",
       "      <td>8964</td>\n",
       "      <td>42908</td>\n",
       "    </tr>\n",
       "    <tr>\n",
       "      <th>4</th>\n",
       "      <td>891327558926688256</td>\n",
       "      <td>9774</td>\n",
       "      <td>41048</td>\n",
       "    </tr>\n",
       "  </tbody>\n",
       "</table>\n",
       "</div>"
      ],
      "text/plain": [
       "             tweet_id  retweet_count  favorite_count\n",
       "0  892420643555336193           8853           39467\n",
       "1  892177421306343426           6514           33819\n",
       "2  891815181378084864           4328           25461\n",
       "3  891689557279858688           8964           42908\n",
       "4  891327558926688256           9774           41048"
      ]
     },
     "execution_count": 25,
     "metadata": {},
     "output_type": "execute_result"
    }
   ],
   "source": [
    "tweet_df.head()"
   ]
  },
  {
   "cell_type": "code",
   "execution_count": 26,
   "id": "9777fa55",
   "metadata": {},
   "outputs": [
    {
     "data": {
      "text/html": [
       "<div>\n",
       "<style scoped>\n",
       "    .dataframe tbody tr th:only-of-type {\n",
       "        vertical-align: middle;\n",
       "    }\n",
       "\n",
       "    .dataframe tbody tr th {\n",
       "        vertical-align: top;\n",
       "    }\n",
       "\n",
       "    .dataframe thead th {\n",
       "        text-align: right;\n",
       "    }\n",
       "</style>\n",
       "<table border=\"1\" class=\"dataframe\">\n",
       "  <thead>\n",
       "    <tr style=\"text-align: right;\">\n",
       "      <th></th>\n",
       "      <th>tweet_id</th>\n",
       "      <th>retweet_count</th>\n",
       "      <th>favorite_count</th>\n",
       "    </tr>\n",
       "  </thead>\n",
       "  <tbody>\n",
       "    <tr>\n",
       "      <th>2349</th>\n",
       "      <td>666049248165822465</td>\n",
       "      <td>41</td>\n",
       "      <td>111</td>\n",
       "    </tr>\n",
       "    <tr>\n",
       "      <th>2350</th>\n",
       "      <td>666044226329800704</td>\n",
       "      <td>147</td>\n",
       "      <td>311</td>\n",
       "    </tr>\n",
       "    <tr>\n",
       "      <th>2351</th>\n",
       "      <td>666033412701032449</td>\n",
       "      <td>47</td>\n",
       "      <td>128</td>\n",
       "    </tr>\n",
       "    <tr>\n",
       "      <th>2352</th>\n",
       "      <td>666029285002620928</td>\n",
       "      <td>48</td>\n",
       "      <td>132</td>\n",
       "    </tr>\n",
       "    <tr>\n",
       "      <th>2353</th>\n",
       "      <td>666020888022790149</td>\n",
       "      <td>532</td>\n",
       "      <td>2535</td>\n",
       "    </tr>\n",
       "  </tbody>\n",
       "</table>\n",
       "</div>"
      ],
      "text/plain": [
       "                tweet_id  retweet_count  favorite_count\n",
       "2349  666049248165822465             41             111\n",
       "2350  666044226329800704            147             311\n",
       "2351  666033412701032449             47             128\n",
       "2352  666029285002620928             48             132\n",
       "2353  666020888022790149            532            2535"
      ]
     },
     "execution_count": 26,
     "metadata": {},
     "output_type": "execute_result"
    }
   ],
   "source": [
    "tweet_df.tail()"
   ]
  },
  {
   "cell_type": "code",
   "execution_count": 27,
   "id": "7bfd4e7c",
   "metadata": {},
   "outputs": [
    {
     "name": "stdout",
     "output_type": "stream",
     "text": [
      "<class 'pandas.core.frame.DataFrame'>\n",
      "RangeIndex: 2354 entries, 0 to 2353\n",
      "Data columns (total 3 columns):\n",
      " #   Column          Non-Null Count  Dtype\n",
      "---  ------          --------------  -----\n",
      " 0   tweet_id        2354 non-null   int64\n",
      " 1   retweet_count   2354 non-null   int64\n",
      " 2   favorite_count  2354 non-null   int64\n",
      "dtypes: int64(3)\n",
      "memory usage: 55.3 KB\n"
     ]
    }
   ],
   "source": [
    "tweet_df.info()"
   ]
  },
  {
   "cell_type": "code",
   "execution_count": 28,
   "id": "fbcc119d",
   "metadata": {},
   "outputs": [
    {
     "data": {
      "text/plain": [
       "(2354, 3)"
      ]
     },
     "execution_count": 28,
     "metadata": {},
     "output_type": "execute_result"
    }
   ],
   "source": [
    "tweet_df.shape"
   ]
  },
  {
   "cell_type": "code",
   "execution_count": 29,
   "id": "80efaed8",
   "metadata": {},
   "outputs": [
    {
     "data": {
      "text/html": [
       "<div>\n",
       "<style scoped>\n",
       "    .dataframe tbody tr th:only-of-type {\n",
       "        vertical-align: middle;\n",
       "    }\n",
       "\n",
       "    .dataframe tbody tr th {\n",
       "        vertical-align: top;\n",
       "    }\n",
       "\n",
       "    .dataframe thead th {\n",
       "        text-align: right;\n",
       "    }\n",
       "</style>\n",
       "<table border=\"1\" class=\"dataframe\">\n",
       "  <thead>\n",
       "    <tr style=\"text-align: right;\">\n",
       "      <th></th>\n",
       "      <th>tweet_id</th>\n",
       "      <th>retweet_count</th>\n",
       "      <th>favorite_count</th>\n",
       "    </tr>\n",
       "  </thead>\n",
       "  <tbody>\n",
       "    <tr>\n",
       "      <th>count</th>\n",
       "      <td>2.354000e+03</td>\n",
       "      <td>2354.000000</td>\n",
       "      <td>2354.000000</td>\n",
       "    </tr>\n",
       "    <tr>\n",
       "      <th>mean</th>\n",
       "      <td>7.426978e+17</td>\n",
       "      <td>3164.797366</td>\n",
       "      <td>8080.968564</td>\n",
       "    </tr>\n",
       "    <tr>\n",
       "      <th>std</th>\n",
       "      <td>6.852812e+16</td>\n",
       "      <td>5284.770364</td>\n",
       "      <td>11814.771334</td>\n",
       "    </tr>\n",
       "    <tr>\n",
       "      <th>min</th>\n",
       "      <td>6.660209e+17</td>\n",
       "      <td>0.000000</td>\n",
       "      <td>0.000000</td>\n",
       "    </tr>\n",
       "    <tr>\n",
       "      <th>25%</th>\n",
       "      <td>6.783975e+17</td>\n",
       "      <td>624.500000</td>\n",
       "      <td>1415.000000</td>\n",
       "    </tr>\n",
       "    <tr>\n",
       "      <th>50%</th>\n",
       "      <td>7.194596e+17</td>\n",
       "      <td>1473.500000</td>\n",
       "      <td>3603.500000</td>\n",
       "    </tr>\n",
       "    <tr>\n",
       "      <th>75%</th>\n",
       "      <td>7.993058e+17</td>\n",
       "      <td>3652.000000</td>\n",
       "      <td>10122.250000</td>\n",
       "    </tr>\n",
       "    <tr>\n",
       "      <th>max</th>\n",
       "      <td>8.924206e+17</td>\n",
       "      <td>79515.000000</td>\n",
       "      <td>132810.000000</td>\n",
       "    </tr>\n",
       "  </tbody>\n",
       "</table>\n",
       "</div>"
      ],
      "text/plain": [
       "           tweet_id  retweet_count  favorite_count\n",
       "count  2.354000e+03    2354.000000     2354.000000\n",
       "mean   7.426978e+17    3164.797366     8080.968564\n",
       "std    6.852812e+16    5284.770364    11814.771334\n",
       "min    6.660209e+17       0.000000        0.000000\n",
       "25%    6.783975e+17     624.500000     1415.000000\n",
       "50%    7.194596e+17    1473.500000     3603.500000\n",
       "75%    7.993058e+17    3652.000000    10122.250000\n",
       "max    8.924206e+17   79515.000000   132810.000000"
      ]
     },
     "execution_count": 29,
     "metadata": {},
     "output_type": "execute_result"
    }
   ],
   "source": [
    "tweet_df.describe()"
   ]
  },
  {
   "cell_type": "code",
   "execution_count": 30,
   "id": "7239fcfe",
   "metadata": {},
   "outputs": [
    {
     "data": {
      "text/plain": [
       "0"
      ]
     },
     "execution_count": 30,
     "metadata": {},
     "output_type": "execute_result"
    }
   ],
   "source": [
    "tweet_df.duplicated().sum()"
   ]
  },
  {
   "cell_type": "markdown",
   "id": "9f05ae7b",
   "metadata": {},
   "source": [
    "# Quality:-\n",
    "1. No use of retweets columns.\n",
    "2. Timestamp should be datetime instead of object \n",
    "3. tweet_id should be in string instead of integer\n",
    "4. in_reply_to_status_id, in_reply_to_user_id, expanded_urls have null values.\n",
    "5. Name column have invalid names i.e 'a','an','the'\n",
    "6. In rating_denominator column some values are more than 10.\n",
    "7. we don't need source column from tae_df table(most of the source information is repitative).\n",
    "8. p1, p2 & p3 have invalid dog names(otherthan dog breed names) like 'orange','bagel','toilet paper' and in p1_dog, p2_dog, p3_dog contains false , which means they are not usefull.\n",
    "9. We don't need img_num column in ip_df table."
   ]
  },
  {
   "cell_type": "markdown",
   "id": "15ff6991",
   "metadata": {},
   "source": [
    "# Tidiness:-\n",
    "1. Dog stages should be in the same column.\n",
    "2. retweet_count and favorite_count columns should be in twitter-archive-enhanced table."
   ]
  },
  {
   "cell_type": "code",
   "execution_count": 31,
   "id": "3d60375e",
   "metadata": {},
   "outputs": [],
   "source": [
    "tae_clean = tae_df.copy()\n",
    "ip_clean = ip_df.copy()\n",
    "tweet_clean =tweet_df.copy()"
   ]
  },
  {
   "cell_type": "markdown",
   "id": "b3c36939",
   "metadata": {},
   "source": [
    "# Quality"
   ]
  },
  {
   "cell_type": "markdown",
   "id": "f52490e1",
   "metadata": {},
   "source": [
    "1. No use of retweets columns."
   ]
  },
  {
   "cell_type": "markdown",
   "id": "215e1558",
   "metadata": {},
   "source": [
    "Define:- Remove retweets rows and columns "
   ]
  },
  {
   "cell_type": "markdown",
   "id": "70f6dcda",
   "metadata": {},
   "source": [
    "Code:-"
   ]
  },
  {
   "cell_type": "code",
   "execution_count": 32,
   "id": "b192d118",
   "metadata": {},
   "outputs": [],
   "source": [
    "retweets_index = list(tae_clean[tae_clean[\"retweeted_status_id\"].notnull()].index)\n",
    "tae_clean.drop(index=retweets_index, inplace=True)"
   ]
  },
  {
   "cell_type": "code",
   "execution_count": 33,
   "id": "8bfa8b1a",
   "metadata": {},
   "outputs": [],
   "source": [
    "columns = ['retweeted_status_id','retweeted_status_user_id','retweeted_status_timestamp']\n",
    "tae_clean.drop(columns=columns, axis = 1, inplace = True)"
   ]
  },
  {
   "cell_type": "markdown",
   "id": "ed742e36",
   "metadata": {},
   "source": [
    "Test:-"
   ]
  },
  {
   "cell_type": "code",
   "execution_count": 34,
   "id": "b42d681d",
   "metadata": {},
   "outputs": [
    {
     "name": "stdout",
     "output_type": "stream",
     "text": [
      "<class 'pandas.core.frame.DataFrame'>\n",
      "Int64Index: 2175 entries, 0 to 2355\n",
      "Data columns (total 14 columns):\n",
      " #   Column                 Non-Null Count  Dtype  \n",
      "---  ------                 --------------  -----  \n",
      " 0   tweet_id               2175 non-null   int64  \n",
      " 1   in_reply_to_status_id  78 non-null     float64\n",
      " 2   in_reply_to_user_id    78 non-null     float64\n",
      " 3   timestamp              2175 non-null   object \n",
      " 4   source                 2175 non-null   object \n",
      " 5   text                   2175 non-null   object \n",
      " 6   expanded_urls          2117 non-null   object \n",
      " 7   rating_numerator       2175 non-null   int64  \n",
      " 8   rating_denominator     2175 non-null   int64  \n",
      " 9   name                   2175 non-null   object \n",
      " 10  doggo                  2175 non-null   object \n",
      " 11  floofer                2175 non-null   object \n",
      " 12  pupper                 2175 non-null   object \n",
      " 13  puppo                  2175 non-null   object \n",
      "dtypes: float64(2), int64(3), object(9)\n",
      "memory usage: 254.9+ KB\n"
     ]
    }
   ],
   "source": [
    "tae_clean.info()"
   ]
  },
  {
   "cell_type": "markdown",
   "id": "9d2fd4fc",
   "metadata": {},
   "source": [
    "2. Timestamp should be datetime instead of object."
   ]
  },
  {
   "cell_type": "markdown",
   "id": "7a218916",
   "metadata": {},
   "source": [
    "Define:- Timestamp should be changed tp datetime type."
   ]
  },
  {
   "cell_type": "markdown",
   "id": "0d19b230",
   "metadata": {},
   "source": [
    "Code:-"
   ]
  },
  {
   "cell_type": "code",
   "execution_count": 35,
   "id": "dda8fae2",
   "metadata": {},
   "outputs": [],
   "source": [
    "tae_clean[\"timestamp\"] = tae_clean[\"timestamp\"].apply(pd.to_datetime)"
   ]
  },
  {
   "cell_type": "markdown",
   "id": "74391bf8",
   "metadata": {},
   "source": [
    "Test:-"
   ]
  },
  {
   "cell_type": "code",
   "execution_count": 36,
   "id": "3d6b6842",
   "metadata": {
    "scrolled": true
   },
   "outputs": [
    {
     "name": "stdout",
     "output_type": "stream",
     "text": [
      "<class 'pandas.core.frame.DataFrame'>\n",
      "Int64Index: 2175 entries, 0 to 2355\n",
      "Data columns (total 14 columns):\n",
      " #   Column                 Non-Null Count  Dtype              \n",
      "---  ------                 --------------  -----              \n",
      " 0   tweet_id               2175 non-null   int64              \n",
      " 1   in_reply_to_status_id  78 non-null     float64            \n",
      " 2   in_reply_to_user_id    78 non-null     float64            \n",
      " 3   timestamp              2175 non-null   datetime64[ns, UTC]\n",
      " 4   source                 2175 non-null   object             \n",
      " 5   text                   2175 non-null   object             \n",
      " 6   expanded_urls          2117 non-null   object             \n",
      " 7   rating_numerator       2175 non-null   int64              \n",
      " 8   rating_denominator     2175 non-null   int64              \n",
      " 9   name                   2175 non-null   object             \n",
      " 10  doggo                  2175 non-null   object             \n",
      " 11  floofer                2175 non-null   object             \n",
      " 12  pupper                 2175 non-null   object             \n",
      " 13  puppo                  2175 non-null   object             \n",
      "dtypes: datetime64[ns, UTC](1), float64(2), int64(3), object(8)\n",
      "memory usage: 254.9+ KB\n"
     ]
    }
   ],
   "source": [
    "tae_clean.info()"
   ]
  },
  {
   "cell_type": "markdown",
   "id": "1265782e",
   "metadata": {},
   "source": [
    "3. tweet_id should be in string insted of integer"
   ]
  },
  {
   "cell_type": "markdown",
   "id": "31a778ea",
   "metadata": {},
   "source": [
    "Define:- tweet_id in all three tables should be changed to string."
   ]
  },
  {
   "cell_type": "markdown",
   "id": "09ff8ca3",
   "metadata": {},
   "source": [
    "Code:- "
   ]
  },
  {
   "cell_type": "code",
   "execution_count": 37,
   "id": "4c7d2a83",
   "metadata": {},
   "outputs": [],
   "source": [
    "tae_clean[\"tweet_id\"] = tae_clean[\"tweet_id\"].apply(str)\n",
    "ip_clean[\"tweet_id\"] = ip_clean[\"tweet_id\"].apply(str)\n",
    "tweet_clean[\"tweet_id\"] = tweet_clean[\"tweet_id\"].apply(str)"
   ]
  },
  {
   "cell_type": "markdown",
   "id": "d00314a4",
   "metadata": {},
   "source": [
    "Test:-"
   ]
  },
  {
   "cell_type": "code",
   "execution_count": 38,
   "id": "68bfbeb9",
   "metadata": {},
   "outputs": [
    {
     "name": "stdout",
     "output_type": "stream",
     "text": [
      "<class 'pandas.core.frame.DataFrame'>\n",
      "Int64Index: 2175 entries, 0 to 2355\n",
      "Data columns (total 14 columns):\n",
      " #   Column                 Non-Null Count  Dtype              \n",
      "---  ------                 --------------  -----              \n",
      " 0   tweet_id               2175 non-null   object             \n",
      " 1   in_reply_to_status_id  78 non-null     float64            \n",
      " 2   in_reply_to_user_id    78 non-null     float64            \n",
      " 3   timestamp              2175 non-null   datetime64[ns, UTC]\n",
      " 4   source                 2175 non-null   object             \n",
      " 5   text                   2175 non-null   object             \n",
      " 6   expanded_urls          2117 non-null   object             \n",
      " 7   rating_numerator       2175 non-null   int64              \n",
      " 8   rating_denominator     2175 non-null   int64              \n",
      " 9   name                   2175 non-null   object             \n",
      " 10  doggo                  2175 non-null   object             \n",
      " 11  floofer                2175 non-null   object             \n",
      " 12  pupper                 2175 non-null   object             \n",
      " 13  puppo                  2175 non-null   object             \n",
      "dtypes: datetime64[ns, UTC](1), float64(2), int64(2), object(9)\n",
      "memory usage: 254.9+ KB\n"
     ]
    }
   ],
   "source": [
    "tae_clean.info()"
   ]
  },
  {
   "cell_type": "code",
   "execution_count": 39,
   "id": "744a22aa",
   "metadata": {},
   "outputs": [
    {
     "name": "stdout",
     "output_type": "stream",
     "text": [
      "<class 'pandas.core.frame.DataFrame'>\n",
      "RangeIndex: 2075 entries, 0 to 2074\n",
      "Data columns (total 12 columns):\n",
      " #   Column    Non-Null Count  Dtype  \n",
      "---  ------    --------------  -----  \n",
      " 0   tweet_id  2075 non-null   object \n",
      " 1   jpg_url   2075 non-null   object \n",
      " 2   img_num   2075 non-null   int64  \n",
      " 3   p1        2075 non-null   object \n",
      " 4   p1_conf   2075 non-null   float64\n",
      " 5   p1_dog    2075 non-null   bool   \n",
      " 6   p2        2075 non-null   object \n",
      " 7   p2_conf   2075 non-null   float64\n",
      " 8   p2_dog    2075 non-null   bool   \n",
      " 9   p3        2075 non-null   object \n",
      " 10  p3_conf   2075 non-null   float64\n",
      " 11  p3_dog    2075 non-null   bool   \n",
      "dtypes: bool(3), float64(3), int64(1), object(5)\n",
      "memory usage: 152.1+ KB\n"
     ]
    }
   ],
   "source": [
    "ip_clean.info()"
   ]
  },
  {
   "cell_type": "code",
   "execution_count": 40,
   "id": "ba79919c",
   "metadata": {},
   "outputs": [
    {
     "name": "stdout",
     "output_type": "stream",
     "text": [
      "<class 'pandas.core.frame.DataFrame'>\n",
      "RangeIndex: 2354 entries, 0 to 2353\n",
      "Data columns (total 3 columns):\n",
      " #   Column          Non-Null Count  Dtype \n",
      "---  ------          --------------  ----- \n",
      " 0   tweet_id        2354 non-null   object\n",
      " 1   retweet_count   2354 non-null   int64 \n",
      " 2   favorite_count  2354 non-null   int64 \n",
      "dtypes: int64(2), object(1)\n",
      "memory usage: 55.3+ KB\n"
     ]
    }
   ],
   "source": [
    "tweet_clean.info()"
   ]
  },
  {
   "cell_type": "markdown",
   "id": "e4408c22",
   "metadata": {},
   "source": [
    "4. in_reply_to_status_id, in_reply_to_user_id, expanded_urls have null values."
   ]
  },
  {
   "cell_type": "markdown",
   "id": "ac8c1c12",
   "metadata": {},
   "source": [
    "Define:- we cannot find none values for in_reply_to_status_id, in_reply_to_user_id columns. so, we drop those two columns. expanded_urls also have none values, which means no image. now we have to drop off rows which have none values from expanded_urls column."
   ]
  },
  {
   "cell_type": "markdown",
   "id": "386ba543",
   "metadata": {},
   "source": [
    "Code:-"
   ]
  },
  {
   "cell_type": "code",
   "execution_count": 41,
   "id": "87f766f7",
   "metadata": {},
   "outputs": [],
   "source": [
    "expanded_urls_index = list(tae_clean[tae_clean[\"expanded_urls\"].isnull()].index)\n",
    "tae_clean.drop(index=expanded_urls_index, inplace=True)"
   ]
  },
  {
   "cell_type": "code",
   "execution_count": 42,
   "id": "e17a33cc",
   "metadata": {},
   "outputs": [],
   "source": [
    "column = ['in_reply_to_status_id', 'in_reply_to_user_id']\n",
    "tae_clean.drop(columns=column, axis = 1, inplace = True)"
   ]
  },
  {
   "cell_type": "markdown",
   "id": "33d6ad70",
   "metadata": {},
   "source": [
    "Test:-"
   ]
  },
  {
   "cell_type": "code",
   "execution_count": 43,
   "id": "98c965d1",
   "metadata": {},
   "outputs": [
    {
     "data": {
      "text/plain": [
       "0"
      ]
     },
     "execution_count": 43,
     "metadata": {},
     "output_type": "execute_result"
    }
   ],
   "source": [
    "tae_clean[\"expanded_urls\"].isnull().sum()"
   ]
  },
  {
   "cell_type": "code",
   "execution_count": 44,
   "id": "d35f4a7e",
   "metadata": {},
   "outputs": [
    {
     "name": "stdout",
     "output_type": "stream",
     "text": [
      "<class 'pandas.core.frame.DataFrame'>\n",
      "Int64Index: 2117 entries, 0 to 2355\n",
      "Data columns (total 12 columns):\n",
      " #   Column              Non-Null Count  Dtype              \n",
      "---  ------              --------------  -----              \n",
      " 0   tweet_id            2117 non-null   object             \n",
      " 1   timestamp           2117 non-null   datetime64[ns, UTC]\n",
      " 2   source              2117 non-null   object             \n",
      " 3   text                2117 non-null   object             \n",
      " 4   expanded_urls       2117 non-null   object             \n",
      " 5   rating_numerator    2117 non-null   int64              \n",
      " 6   rating_denominator  2117 non-null   int64              \n",
      " 7   name                2117 non-null   object             \n",
      " 8   doggo               2117 non-null   object             \n",
      " 9   floofer             2117 non-null   object             \n",
      " 10  pupper              2117 non-null   object             \n",
      " 11  puppo               2117 non-null   object             \n",
      "dtypes: datetime64[ns, UTC](1), int64(2), object(9)\n",
      "memory usage: 215.0+ KB\n"
     ]
    }
   ],
   "source": [
    "tae_clean.info()"
   ]
  },
  {
   "cell_type": "markdown",
   "id": "37ec0bbf",
   "metadata": {},
   "source": [
    "5. Name column have invalid names i.e 'a', 'an','the'"
   ]
  },
  {
   "cell_type": "markdown",
   "id": "5374b59c",
   "metadata": {},
   "source": [
    "Define:- In the name column, they are invalid names in the lowercase letter words. we should replace those words with none."
   ]
  },
  {
   "cell_type": "markdown",
   "id": "d1c753d4",
   "metadata": {},
   "source": [
    "Code:-"
   ]
  },
  {
   "cell_type": "code",
   "execution_count": 45,
   "id": "bf02e519",
   "metadata": {},
   "outputs": [],
   "source": [
    "wrong_name = (tae_clean[tae_clean.name.str.islower()].name).index\n",
    "tae_clean.loc[wrong_name,'name'] = 'None'"
   ]
  },
  {
   "cell_type": "markdown",
   "id": "840c90d8",
   "metadata": {},
   "source": [
    "Test:-"
   ]
  },
  {
   "cell_type": "code",
   "execution_count": 46,
   "id": "48d0d7e0",
   "metadata": {},
   "outputs": [
    {
     "data": {
      "text/plain": [
       "None          726\n",
       "Lucy           11\n",
       "Charlie        11\n",
       "Cooper         10\n",
       "Oliver         10\n",
       "             ... \n",
       "Shelby          1\n",
       "Sephie          1\n",
       "Bonaparte       1\n",
       "Wishes          1\n",
       "Christoper      1\n",
       "Name: name, Length: 931, dtype: int64"
      ]
     },
     "execution_count": 46,
     "metadata": {},
     "output_type": "execute_result"
    }
   ],
   "source": [
    "tae_clean.name.value_counts()"
   ]
  },
  {
   "cell_type": "markdown",
   "id": "58a188fb",
   "metadata": {},
   "source": [
    "6. In rating_denominator column some values are more than 10."
   ]
  },
  {
   "cell_type": "markdown",
   "id": "518acd88",
   "metadata": {},
   "source": [
    "Define:-Delect the rows, in which denominater is more than 10."
   ]
  },
  {
   "cell_type": "markdown",
   "id": "96f6d742",
   "metadata": {},
   "source": [
    "Code:-"
   ]
  },
  {
   "cell_type": "code",
   "execution_count": 47,
   "id": "862335e6",
   "metadata": {},
   "outputs": [],
   "source": [
    "denominater = list(tae_clean.query(\"rating_denominator != 10\").index)\n",
    "tae_clean.drop(index=denominater, inplace=True)"
   ]
  },
  {
   "cell_type": "markdown",
   "id": "37b91541",
   "metadata": {},
   "source": [
    "Test:-"
   ]
  },
  {
   "cell_type": "code",
   "execution_count": 48,
   "id": "8210c26d",
   "metadata": {},
   "outputs": [
    {
     "data": {
      "text/plain": [
       "Int64Index([], dtype='int64')"
      ]
     },
     "execution_count": 48,
     "metadata": {},
     "output_type": "execute_result"
    }
   ],
   "source": [
    "tae_clean.query(\"rating_denominator != 10\").index"
   ]
  },
  {
   "cell_type": "markdown",
   "id": "e872a95e",
   "metadata": {},
   "source": [
    "7. we dont need source column from tae_df table(most of the source information is repitative)."
   ]
  },
  {
   "cell_type": "markdown",
   "id": "12a040a4",
   "metadata": {},
   "source": [
    "Define:-Delect source column."
   ]
  },
  {
   "cell_type": "markdown",
   "id": "a61deca0",
   "metadata": {},
   "source": [
    "Code:-"
   ]
  },
  {
   "cell_type": "code",
   "execution_count": 49,
   "id": "b268fab2",
   "metadata": {},
   "outputs": [],
   "source": [
    "tae_clean.drop(columns='source', axis = 1, inplace = True)"
   ]
  },
  {
   "cell_type": "markdown",
   "id": "e793f8c3",
   "metadata": {},
   "source": [
    "Test:-"
   ]
  },
  {
   "cell_type": "code",
   "execution_count": 50,
   "id": "5c3e0356",
   "metadata": {},
   "outputs": [
    {
     "name": "stdout",
     "output_type": "stream",
     "text": [
      "<class 'pandas.core.frame.DataFrame'>\n",
      "Int64Index: 2099 entries, 0 to 2355\n",
      "Data columns (total 11 columns):\n",
      " #   Column              Non-Null Count  Dtype              \n",
      "---  ------              --------------  -----              \n",
      " 0   tweet_id            2099 non-null   object             \n",
      " 1   timestamp           2099 non-null   datetime64[ns, UTC]\n",
      " 2   text                2099 non-null   object             \n",
      " 3   expanded_urls       2099 non-null   object             \n",
      " 4   rating_numerator    2099 non-null   int64              \n",
      " 5   rating_denominator  2099 non-null   int64              \n",
      " 6   name                2099 non-null   object             \n",
      " 7   doggo               2099 non-null   object             \n",
      " 8   floofer             2099 non-null   object             \n",
      " 9   pupper              2099 non-null   object             \n",
      " 10  puppo               2099 non-null   object             \n",
      "dtypes: datetime64[ns, UTC](1), int64(2), object(8)\n",
      "memory usage: 196.8+ KB\n"
     ]
    }
   ],
   "source": [
    "tae_clean.info()"
   ]
  },
  {
   "cell_type": "markdown",
   "id": "321c04fe",
   "metadata": {},
   "source": [
    "8. p1, p2 & p3 have invalid dog names(otherthan dog breed names) like 'orange','bagel','toilet paper' and in p1_dog, p2_dog, p3_dog contains false , which means they are not usefull."
   ]
  },
  {
   "cell_type": "markdown",
   "id": "819b9e5d",
   "metadata": {},
   "source": [
    "Define:-find rows that have invalid dog names and three false and delect them."
   ]
  },
  {
   "cell_type": "markdown",
   "id": "b1217642",
   "metadata": {},
   "source": [
    "Code:-"
   ]
  },
  {
   "cell_type": "code",
   "execution_count": 51,
   "id": "9fa490cb",
   "metadata": {},
   "outputs": [],
   "source": [
    "false_dog_names = list(ip_clean.query(\"p1_dog==False and p2_dog==False and p3_dog == False\").index)\n",
    "ip_clean.drop(false_dog_names,inplace=True)"
   ]
  },
  {
   "cell_type": "markdown",
   "id": "74e68f3b",
   "metadata": {},
   "source": [
    "Test:-"
   ]
  },
  {
   "cell_type": "code",
   "execution_count": 52,
   "id": "0fecb2cf",
   "metadata": {},
   "outputs": [
    {
     "data": {
      "text/plain": [
       "Int64Index([], dtype='int64')"
      ]
     },
     "execution_count": 52,
     "metadata": {},
     "output_type": "execute_result"
    }
   ],
   "source": [
    "ip_clean.query(\"p1_dog==False and p2_dog==False and p3_dog == False\").index"
   ]
  },
  {
   "cell_type": "markdown",
   "id": "a89d9bf1",
   "metadata": {},
   "source": [
    "9. We dont need img_num column in ip_df table."
   ]
  },
  {
   "cell_type": "markdown",
   "id": "2b5b0bc2",
   "metadata": {},
   "source": [
    "Define:-Delect img_num column."
   ]
  },
  {
   "cell_type": "markdown",
   "id": "8abdf62f",
   "metadata": {},
   "source": [
    "Code:-"
   ]
  },
  {
   "cell_type": "code",
   "execution_count": 53,
   "id": "529d9eb7",
   "metadata": {},
   "outputs": [],
   "source": [
    "ip_clean.drop(columns='img_num', axis = 1, inplace = True)"
   ]
  },
  {
   "cell_type": "markdown",
   "id": "d7eae610",
   "metadata": {},
   "source": [
    "Test:-"
   ]
  },
  {
   "cell_type": "code",
   "execution_count": 54,
   "id": "c33d08f7",
   "metadata": {},
   "outputs": [
    {
     "name": "stdout",
     "output_type": "stream",
     "text": [
      "<class 'pandas.core.frame.DataFrame'>\n",
      "Int64Index: 1751 entries, 0 to 2073\n",
      "Data columns (total 11 columns):\n",
      " #   Column    Non-Null Count  Dtype  \n",
      "---  ------    --------------  -----  \n",
      " 0   tweet_id  1751 non-null   object \n",
      " 1   jpg_url   1751 non-null   object \n",
      " 2   p1        1751 non-null   object \n",
      " 3   p1_conf   1751 non-null   float64\n",
      " 4   p1_dog    1751 non-null   bool   \n",
      " 5   p2        1751 non-null   object \n",
      " 6   p2_conf   1751 non-null   float64\n",
      " 7   p2_dog    1751 non-null   bool   \n",
      " 8   p3        1751 non-null   object \n",
      " 9   p3_conf   1751 non-null   float64\n",
      " 10  p3_dog    1751 non-null   bool   \n",
      "dtypes: bool(3), float64(3), object(5)\n",
      "memory usage: 128.2+ KB\n"
     ]
    }
   ],
   "source": [
    "ip_clean.info()"
   ]
  },
  {
   "cell_type": "markdown",
   "id": "e6c4f439",
   "metadata": {},
   "source": [
    "# Tidiness"
   ]
  },
  {
   "cell_type": "markdown",
   "id": "2817f9e4",
   "metadata": {},
   "source": [
    "1. Dog stages should be in the same column."
   ]
  },
  {
   "cell_type": "markdown",
   "id": "0320ed49",
   "metadata": {},
   "source": [
    "Define:- Change dog stages into one column and delect original columns."
   ]
  },
  {
   "cell_type": "markdown",
   "id": "9f8a7570",
   "metadata": {},
   "source": [
    "Code:-"
   ]
  },
  {
   "cell_type": "code",
   "execution_count": 55,
   "id": "38448d5b",
   "metadata": {},
   "outputs": [],
   "source": [
    "tae_clean['stage'] = tae_clean.doggo.astype(str) + ', ' +tae_clean.floofer.astype(str) + ', ' +tae_clean.pupper.astype(str) + ', '+tae_clean.puppo.astype(str)"
   ]
  },
  {
   "cell_type": "code",
   "execution_count": 56,
   "id": "cdf8d6c4",
   "metadata": {},
   "outputs": [
    {
     "data": {
      "text/plain": [
       "None, None, None, None        1761\n",
       "None, None, pupper, None       222\n",
       "doggo, None, None, None         72\n",
       "None, None, None, puppo         23\n",
       "doggo, None, pupper, None       10\n",
       "None, floofer, None, None        9\n",
       "doggo, None, None, puppo         1\n",
       "doggo, floofer, None, None       1\n",
       "Name: stage, dtype: int64"
      ]
     },
     "execution_count": 56,
     "metadata": {},
     "output_type": "execute_result"
    }
   ],
   "source": [
    "tae_clean.stage.value_counts()"
   ]
  },
  {
   "cell_type": "code",
   "execution_count": 57,
   "id": "336070b3",
   "metadata": {},
   "outputs": [],
   "source": [
    "def stage_cleaner(s):\n",
    "    l = [item for item in s.split(\", \") if item != 'None']\n",
    "    return 'None' if not l else \" \".join(l)\n",
    "\n",
    "tae_clean['stage'] = tae_clean['stage'].apply(stage_cleaner)"
   ]
  },
  {
   "cell_type": "code",
   "execution_count": 58,
   "id": "e4c11b23",
   "metadata": {},
   "outputs": [
    {
     "data": {
      "text/plain": [
       "None             1761\n",
       "pupper            222\n",
       "doggo              72\n",
       "puppo              23\n",
       "doggo pupper       10\n",
       "floofer             9\n",
       "doggo puppo         1\n",
       "doggo floofer       1\n",
       "Name: stage, dtype: int64"
      ]
     },
     "execution_count": 58,
     "metadata": {},
     "output_type": "execute_result"
    }
   ],
   "source": [
    "tae_clean.stage.value_counts()"
   ]
  },
  {
   "cell_type": "code",
   "execution_count": 59,
   "id": "ca458e3a",
   "metadata": {},
   "outputs": [],
   "source": [
    "col = ['pupper','doggo','floofer','puppo']\n",
    "tae_clean.drop(columns=col, axis = 1, inplace = True)"
   ]
  },
  {
   "cell_type": "markdown",
   "id": "3959b2ac",
   "metadata": {},
   "source": [
    "Test:-"
   ]
  },
  {
   "cell_type": "code",
   "execution_count": 60,
   "id": "50c15c7c",
   "metadata": {},
   "outputs": [
    {
     "name": "stdout",
     "output_type": "stream",
     "text": [
      "<class 'pandas.core.frame.DataFrame'>\n",
      "Int64Index: 2099 entries, 0 to 2355\n",
      "Data columns (total 8 columns):\n",
      " #   Column              Non-Null Count  Dtype              \n",
      "---  ------              --------------  -----              \n",
      " 0   tweet_id            2099 non-null   object             \n",
      " 1   timestamp           2099 non-null   datetime64[ns, UTC]\n",
      " 2   text                2099 non-null   object             \n",
      " 3   expanded_urls       2099 non-null   object             \n",
      " 4   rating_numerator    2099 non-null   int64              \n",
      " 5   rating_denominator  2099 non-null   int64              \n",
      " 6   name                2099 non-null   object             \n",
      " 7   stage               2099 non-null   object             \n",
      "dtypes: datetime64[ns, UTC](1), int64(2), object(5)\n",
      "memory usage: 147.6+ KB\n"
     ]
    }
   ],
   "source": [
    "tae_clean.info()"
   ]
  },
  {
   "cell_type": "markdown",
   "id": "7f4073dc",
   "metadata": {},
   "source": [
    "2. retweet_count and favorite_count columns should be in twitter-archive-enhanced table."
   ]
  },
  {
   "cell_type": "markdown",
   "id": "5ef6aa0d",
   "metadata": {},
   "source": [
    "Define:- merge two tables into one."
   ]
  },
  {
   "cell_type": "markdown",
   "id": "7a8c0402",
   "metadata": {},
   "source": [
    "Code:-"
   ]
  },
  {
   "cell_type": "code",
   "execution_count": 61,
   "id": "6920fa91",
   "metadata": {},
   "outputs": [],
   "source": [
    "tae_clean = pd.merge(tae_clean,tweet_clean,on=['tweet_id'], how='left')"
   ]
  },
  {
   "cell_type": "code",
   "execution_count": 62,
   "id": "2e0e91e8",
   "metadata": {},
   "outputs": [],
   "source": [
    "tae_clean_df = pd.merge(tae_clean,ip_clean,on=['tweet_id'], how='left')"
   ]
  },
  {
   "cell_type": "markdown",
   "id": "c73c2796",
   "metadata": {},
   "source": [
    "Test:-"
   ]
  },
  {
   "cell_type": "code",
   "execution_count": 63,
   "id": "e1136bdd",
   "metadata": {},
   "outputs": [
    {
     "name": "stdout",
     "output_type": "stream",
     "text": [
      "<class 'pandas.core.frame.DataFrame'>\n",
      "Int64Index: 2099 entries, 0 to 2098\n",
      "Data columns (total 20 columns):\n",
      " #   Column              Non-Null Count  Dtype              \n",
      "---  ------              --------------  -----              \n",
      " 0   tweet_id            2099 non-null   object             \n",
      " 1   timestamp           2099 non-null   datetime64[ns, UTC]\n",
      " 2   text                2099 non-null   object             \n",
      " 3   expanded_urls       2099 non-null   object             \n",
      " 4   rating_numerator    2099 non-null   int64              \n",
      " 5   rating_denominator  2099 non-null   int64              \n",
      " 6   name                2099 non-null   object             \n",
      " 7   stage               2099 non-null   object             \n",
      " 8   retweet_count       2099 non-null   int64              \n",
      " 9   favorite_count      2099 non-null   int64              \n",
      " 10  jpg_url             1669 non-null   object             \n",
      " 11  p1                  1669 non-null   object             \n",
      " 12  p1_conf             1669 non-null   float64            \n",
      " 13  p1_dog              1669 non-null   object             \n",
      " 14  p2                  1669 non-null   object             \n",
      " 15  p2_conf             1669 non-null   float64            \n",
      " 16  p2_dog              1669 non-null   object             \n",
      " 17  p3                  1669 non-null   object             \n",
      " 18  p3_conf             1669 non-null   float64            \n",
      " 19  p3_dog              1669 non-null   object             \n",
      "dtypes: datetime64[ns, UTC](1), float64(3), int64(4), object(12)\n",
      "memory usage: 344.4+ KB\n"
     ]
    }
   ],
   "source": [
    "tae_clean_df.info()"
   ]
  },
  {
   "cell_type": "code",
   "execution_count": 64,
   "id": "b3fd264f",
   "metadata": {},
   "outputs": [],
   "source": [
    "tae_clean_df.to_csv('twitter_archive_master.csv')"
   ]
  },
  {
   "cell_type": "markdown",
   "id": "1961746a",
   "metadata": {},
   "source": [
    "# Analysis and  visualization:-"
   ]
  },
  {
   "cell_type": "markdown",
   "id": "81a7a8bd",
   "metadata": {},
   "source": [
    "Insights:-\n",
    "1. which stage of dogs have average highest retweet and favorite count?\n",
    "2. which dog type is the most common dog that has been rated?\n",
    "3. what is the relation between number of tweets and number of favorites?"
   ]
  },
  {
   "cell_type": "markdown",
   "id": "7af18a58",
   "metadata": {},
   "source": [
    "1. which stage of dogs have average highest retweet and favorite count?"
   ]
  },
  {
   "cell_type": "code",
   "execution_count": 65,
   "id": "3fced305",
   "metadata": {},
   "outputs": [
    {
     "data": {
      "text/html": [
       "<div>\n",
       "<style scoped>\n",
       "    .dataframe tbody tr th:only-of-type {\n",
       "        vertical-align: middle;\n",
       "    }\n",
       "\n",
       "    .dataframe tbody tr th {\n",
       "        vertical-align: top;\n",
       "    }\n",
       "\n",
       "    .dataframe thead th {\n",
       "        text-align: right;\n",
       "    }\n",
       "</style>\n",
       "<table border=\"1\" class=\"dataframe\">\n",
       "  <thead>\n",
       "    <tr style=\"text-align: right;\">\n",
       "      <th></th>\n",
       "      <th>stage</th>\n",
       "      <th>retweet_count</th>\n",
       "    </tr>\n",
       "  </thead>\n",
       "  <tbody>\n",
       "    <tr>\n",
       "      <th>0</th>\n",
       "      <td>None</td>\n",
       "      <td>2648.153322</td>\n",
       "    </tr>\n",
       "    <tr>\n",
       "      <th>1</th>\n",
       "      <td>doggo</td>\n",
       "      <td>6610.361111</td>\n",
       "    </tr>\n",
       "    <tr>\n",
       "      <th>2</th>\n",
       "      <td>doggo floofer</td>\n",
       "      <td>3433.000000</td>\n",
       "    </tr>\n",
       "    <tr>\n",
       "      <th>3</th>\n",
       "      <td>doggo pupper</td>\n",
       "      <td>3971.200000</td>\n",
       "    </tr>\n",
       "    <tr>\n",
       "      <th>4</th>\n",
       "      <td>doggo puppo</td>\n",
       "      <td>19196.000000</td>\n",
       "    </tr>\n",
       "    <tr>\n",
       "      <th>5</th>\n",
       "      <td>floofer</td>\n",
       "      <td>4155.888889</td>\n",
       "    </tr>\n",
       "    <tr>\n",
       "      <th>6</th>\n",
       "      <td>pupper</td>\n",
       "      <td>2470.558559</td>\n",
       "    </tr>\n",
       "    <tr>\n",
       "      <th>7</th>\n",
       "      <td>puppo</td>\n",
       "      <td>6600.043478</td>\n",
       "    </tr>\n",
       "  </tbody>\n",
       "</table>\n",
       "</div>"
      ],
      "text/plain": [
       "           stage  retweet_count\n",
       "0           None    2648.153322\n",
       "1          doggo    6610.361111\n",
       "2  doggo floofer    3433.000000\n",
       "3   doggo pupper    3971.200000\n",
       "4    doggo puppo   19196.000000\n",
       "5        floofer    4155.888889\n",
       "6         pupper    2470.558559\n",
       "7          puppo    6600.043478"
      ]
     },
     "execution_count": 65,
     "metadata": {},
     "output_type": "execute_result"
    }
   ],
   "source": [
    "avg_retweet_count = tae_clean_df.groupby('stage', as_index=False)['retweet_count'].mean()\n",
    "avg_retweet_count"
   ]
  },
  {
   "cell_type": "code",
   "execution_count": 66,
   "id": "2b9c3157",
   "metadata": {},
   "outputs": [
    {
     "data": {
      "image/png": "[encoded data removed]",
      "text/plain": [
       "<Figure size 432x288 with 1 Axes>"
      ]
     },
     "metadata": {
      "needs_background": "light"
     },
     "output_type": "display_data"
    }
   ],
   "source": [
    "avg_retweet_count.plot.bar(x=\"stage\",y=\"retweet_count\",title=\"avg highest retweet count\");"
   ]
  },
  {
   "cell_type": "code",
   "execution_count": 67,
   "id": "09ea2e8b",
   "metadata": {},
   "outputs": [
    {
     "data": {
      "text/html": [
       "<div>\n",
       "<style scoped>\n",
       "    .dataframe tbody tr th:only-of-type {\n",
       "        vertical-align: middle;\n",
       "    }\n",
       "\n",
       "    .dataframe tbody tr th {\n",
       "        vertical-align: top;\n",
       "    }\n",
       "\n",
       "    .dataframe thead th {\n",
       "        text-align: right;\n",
       "    }\n",
       "</style>\n",
       "<table border=\"1\" class=\"dataframe\">\n",
       "  <thead>\n",
       "    <tr style=\"text-align: right;\">\n",
       "      <th></th>\n",
       "      <th>stage</th>\n",
       "      <th>favorite_count</th>\n",
       "    </tr>\n",
       "  </thead>\n",
       "  <tbody>\n",
       "    <tr>\n",
       "      <th>0</th>\n",
       "      <td>None</td>\n",
       "      <td>8588.341851</td>\n",
       "    </tr>\n",
       "    <tr>\n",
       "      <th>1</th>\n",
       "      <td>doggo</td>\n",
       "      <td>18060.194444</td>\n",
       "    </tr>\n",
       "    <tr>\n",
       "      <th>2</th>\n",
       "      <td>doggo floofer</td>\n",
       "      <td>17169.000000</td>\n",
       "    </tr>\n",
       "    <tr>\n",
       "      <th>3</th>\n",
       "      <td>doggo pupper</td>\n",
       "      <td>12077.100000</td>\n",
       "    </tr>\n",
       "    <tr>\n",
       "      <th>4</th>\n",
       "      <td>doggo puppo</td>\n",
       "      <td>47844.000000</td>\n",
       "    </tr>\n",
       "    <tr>\n",
       "      <th>5</th>\n",
       "      <td>floofer</td>\n",
       "      <td>11064.444444</td>\n",
       "    </tr>\n",
       "    <tr>\n",
       "      <th>6</th>\n",
       "      <td>pupper</td>\n",
       "      <td>7214.819820</td>\n",
       "    </tr>\n",
       "    <tr>\n",
       "      <th>7</th>\n",
       "      <td>puppo</td>\n",
       "      <td>21622.565217</td>\n",
       "    </tr>\n",
       "  </tbody>\n",
       "</table>\n",
       "</div>"
      ],
      "text/plain": [
       "           stage  favorite_count\n",
       "0           None     8588.341851\n",
       "1          doggo    18060.194444\n",
       "2  doggo floofer    17169.000000\n",
       "3   doggo pupper    12077.100000\n",
       "4    doggo puppo    47844.000000\n",
       "5        floofer    11064.444444\n",
       "6         pupper     7214.819820\n",
       "7          puppo    21622.565217"
      ]
     },
     "execution_count": 67,
     "metadata": {},
     "output_type": "execute_result"
    }
   ],
   "source": [
    "avg_favorite_count = tae_clean_df.groupby('stage', as_index=False)['favorite_count'].mean()\n",
    "avg_favorite_count"
   ]
  },
  {
   "cell_type": "code",
   "execution_count": 68,
   "id": "4e91d941",
   "metadata": {},
   "outputs": [
    {
     "data": {
      "image/png": "[encoded data removed]",
      "text/plain": [
       "<Figure size 432x288 with 1 Axes>"
      ]
     },
     "metadata": {
      "needs_background": "light"
     },
     "output_type": "display_data"
    }
   ],
   "source": [
    "avg_favorite_count.plot.bar(x=\"stage\",y=\"favorite_count\",title=\"avg highest favorite count\");"
   ]
  },
  {
   "cell_type": "markdown",
   "id": "be1bd362",
   "metadata": {},
   "source": [
    "2. which dog type is the most common dog that has been rated?"
   ]
  },
  {
   "cell_type": "code",
   "execution_count": 69,
   "id": "828e34da",
   "metadata": {},
   "outputs": [
    {
     "data": {
      "text/plain": [
       "golden_retriever            135\n",
       "Labrador_retriever           92\n",
       "Pembroke                     88\n",
       "Chihuahua                    79\n",
       "pug                          54\n",
       "                           ... \n",
       "cup                           1\n",
       "rapeseed                      1\n",
       "sulphur-crested_cockatoo      1\n",
       "conch                         1\n",
       "hay                           1\n",
       "Name: p1, Length: 214, dtype: int64"
      ]
     },
     "execution_count": 69,
     "metadata": {},
     "output_type": "execute_result"
    }
   ],
   "source": [
    "tae_clean_df['p1'].value_counts()"
   ]
  },
  {
   "cell_type": "markdown",
   "id": "4b79df6f",
   "metadata": {},
   "source": [
    "3. what is the relation between number of tweets and number of favourites?"
   ]
  },
  {
   "cell_type": "code",
   "execution_count": 70,
   "id": "545ece75",
   "metadata": {},
   "outputs": [
    {
     "data": {
      "image/png": "[encoded data removed]",
      "text/plain": [
       "<Figure size 432x288 with 1 Axes>"
      ]
     },
     "metadata": {
      "needs_background": "light"
     },
     "output_type": "display_data"
    }
   ],
   "source": [
    "tae_clean_df.plot.scatter(x='retweet_count',y='favorite_count',title='relationship between retweet and fovirates count');"
   ]
  },
  {
   "cell_type": "code",
   "execution_count": 71,
   "id": "cf092607",
   "metadata": {},
   "outputs": [
    {
     "data": {
      "text/plain": [
       "0.9112017295184941"
      ]
     },
     "execution_count": 71,
     "metadata": {},
     "output_type": "execute_result"
    }
   ],
   "source": [
    "cor = tae_clean_df['retweet_count'].corr(tae_clean_df['favorite_count'])\n",
    "cor"
   ]
  },
  {
   "cell_type": "code",
   "execution_count": null,
   "id": "5946f25c",
   "metadata": {},
   "outputs": [],
   "source": []
  }
 ],
 "metadata": {
  "kernelspec": {
   "display_name": "Python 3 (ipykernel)",
   "language": "python",
   "name": "python3"
  },
  "language_info": {
   "codemirror_mode": {
    "name": "ipython",
    "version": 3
   },
   "file_extension": ".py",
   "mimetype": "text/x-python",
   "name": "python",
   "nbconvert_exporter": "python",
   "pygments_lexer": "ipython3",
   "version": "3.9.12"
  }
 },
 "nbformat": 4,
 "nbformat_minor": 5
}
